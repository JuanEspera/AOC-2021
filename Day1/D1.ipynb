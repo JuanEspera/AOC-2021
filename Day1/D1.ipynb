{
 "cells": [
  {
   "cell_type": "code",
   "execution_count": 1,
   "metadata": {},
   "outputs": [],
   "source": [
    "import numpy as np\n",
    "import pandas as pd"
   ]
  },
  {
   "cell_type": "code",
   "execution_count": 2,
   "metadata": {},
   "outputs": [
    {
     "name": "stdout",
     "output_type": "stream",
     "text": [
      "1167\n",
      "1130\n"
     ]
    }
   ],
   "source": [
    "data = np.loadtxt('1.txt')\n",
    "n = int(len(data))\n",
    "idx = 0\n",
    "for i in range(1, n):\n",
    "    diff = data[i] - data[i-1]\n",
    "    if diff > 0:\n",
    "        idx = idx + 1\n",
    "print( idx)\n",
    "\n",
    "second = np.zeros(n-2)\n",
    "for i in range(2, n):\n",
    "    second[i-2] = np.sum(data[i-2:i+1])\n",
    "n = int(len(second))\n",
    "idx = 0\n",
    "for i in range(1, n):\n",
    "    diff = second[i] - second[i-1]\n",
    "    if diff > 0:\n",
    "        idx = idx + 1\n",
    "print( idx )"
   ]
  },
  {
   "cell_type": "code",
   "execution_count": null,
   "metadata": {},
   "outputs": [],
   "source": []
  }
 ],
 "metadata": {
  "kernelspec": {
   "display_name": "Python 3",
   "language": "python",
   "name": "python3"
  },
  "language_info": {
   "codemirror_mode": {
    "name": "ipython",
    "version": 3
   },
   "file_extension": ".py",
   "mimetype": "text/x-python",
   "name": "python",
   "nbconvert_exporter": "python",
   "pygments_lexer": "ipython3",
   "version": "3.7.3"
  }
 },
 "nbformat": 4,
 "nbformat_minor": 4
}
