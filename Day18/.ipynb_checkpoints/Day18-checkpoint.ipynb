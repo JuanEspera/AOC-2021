{
 "cells": [
  {
   "cell_type": "code",
   "execution_count": 1,
   "metadata": {},
   "outputs": [],
   "source": [
    "import numpy as np\n"
   ]
  },
  {
   "cell_type": "code",
   "execution_count": 5,
   "metadata": {},
   "outputs": [
    {
     "name": "stdout",
     "output_type": "stream",
     "text": [
      "['[', '[', '[', '[', '[', '9', ',', '8', ']', ',', '1', ']', ',', '2', ']', ',', '3', ']', ',', '4', ']']\n"
     ]
    }
   ],
   "source": [
    "f = open('explode1.txt')\n",
    "Lines = f.read().splitlines()\n",
    "\n",
    "for line in Lines:\n",
    "    s = [char for char in line ]\n",
    "    print( s )\n"
   ]
  },
  {
   "cell_type": "code",
   "execution_count": null,
   "metadata": {},
   "outputs": [],
   "source": [
    "def explode():\n",
    "    global string \n",
    "    n = int(len(string))\n",
    "    for i in range()\n",
    "        if string[i].isnumeric() :\n",
    "            if number_parenthesis(string[:i], string[i:]):\n",
    "                for j in range(i):\n",
    "                    if string[i-j].isnumeric():\n",
    "                        \n",
    "                \n",
    "                \n",
    "                \n",
    "def number_parenthesis( l, s ):\n",
    "    \"\"\"Check that I have to explode\"\"\"\n",
    "    k = 0\n",
    "    m = 0\n",
    "    for i in range(len(l)):\n",
    "        if l[i] == '[':\n",
    "            k = k + 1\n",
    "    for i in range(len(s)):\n",
    "        if s[i] == ']':\n",
    "            m = m + 1\n",
    "    if m >=4 and k >= 4:\n",
    "        return 1\n",
    "    else:\n",
    "        return 0\n",
    "    "
   ]
  },
  {
   "cell_type": "code",
   "execution_count": 14,
   "metadata": {},
   "outputs": [
    {
     "name": "stdout",
     "output_type": "stream",
     "text": [
      "True False\n"
     ]
    }
   ],
   "source": [
    "c = '3'\n",
    "f = '['\n",
    "\n",
    "\n",
    "print( c.isnumeric() , f.isnumeric() )"
   ]
  },
  {
   "cell_type": "code",
   "execution_count": null,
   "metadata": {},
   "outputs": [],
   "source": []
  }
 ],
 "metadata": {
  "kernelspec": {
   "display_name": "Python 3",
   "language": "python",
   "name": "python3"
  },
  "language_info": {
   "codemirror_mode": {
    "name": "ipython",
    "version": 3
   },
   "file_extension": ".py",
   "mimetype": "text/x-python",
   "name": "python",
   "nbconvert_exporter": "python",
   "pygments_lexer": "ipython3",
   "version": "3.8.10"
  }
 },
 "nbformat": 4,
 "nbformat_minor": 4
}
