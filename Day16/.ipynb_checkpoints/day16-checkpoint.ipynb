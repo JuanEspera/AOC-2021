{
 "cells": [
  {
   "cell_type": "code",
   "execution_count": 1,
   "metadata": {},
   "outputs": [],
   "source": [
    "import numpy as np\n",
    "import pandas as pd"
   ]
  },
  {
   "cell_type": "code",
   "execution_count": 131,
   "metadata": {},
   "outputs": [
    {
     "name": "stdout",
     "output_type": "stream",
     "text": [
      "11101110000000001101010000001100100000100011000001100000\n"
     ]
    }
   ],
   "source": [
    "#recognize version and type id \n",
    "data = pd.read_csv('test3.txt', header = None, dtype = 'str')\n",
    "data = data.to_numpy()\n",
    "end_length = len(data[0][0]) * 4\n",
    "hex_as_int = int(data[0][0], 16)\n",
    "hex_as_binary = bin(hex_as_int)\n",
    "padded_binary = hex_as_binary[2:].zfill(end_length)\n",
    "print( padded_binary)\n",
    "count = 0"
   ]
  },
  {
   "cell_type": "code",
   "execution_count": 132,
   "metadata": {},
   "outputs": [
    {
     "name": "stdout",
     "output_type": "stream",
     "text": [
      "7 3 56\n"
     ]
    }
   ],
   "source": [
    "version = int( padded_binary[:3], 2)\n",
    "type_id = int( padded_binary[3:6], 2) \n",
    "n = len( padded_binary)\n",
    "print( version, type_id, n)"
   ]
  },
  {
   "cell_type": "code",
   "execution_count": 133,
   "metadata": {},
   "outputs": [
    {
     "name": "stdout",
     "output_type": "stream",
     "text": [
      "1\n",
      "3\n",
      "7 3\n"
     ]
    }
   ],
   "source": [
    "count = 0 \n",
    "if type_id == 4:\n",
    "    s = []\n",
    "    for j in range(6, n, 5):\n",
    "        l = padded_binary[j:j+5]\n",
    "        if l[0] == str(1):\n",
    "            s.append( l[1:] )\n",
    "        else:\n",
    "            s.append(l[1:])\n",
    "            break\n",
    "    value = int( ''.join(c for c in s ) , 2 )\n",
    "    print( value )\n",
    "else:\n",
    "    length_type = int(padded_binary[6], 2)\n",
    "    print( length_type)\n",
    "    if length_type == 0:\n",
    "        print( 'non ho capito ')\n",
    "    \n",
    "    else:\n",
    "        m = check_type_uno(padded_binary)\n",
    "        \n",
    "print( count, m )  "
   ]
  },
  {
   "cell_type": "code",
   "execution_count": 130,
   "metadata": {},
   "outputs": [],
   "source": [
    "# I want to define a function that check a string\n",
    "def check_type_uno( array):\n",
    "    m = int(array[7:7+11],2)\n",
    "    print(m )\n",
    "    for k in range(m):\n",
    "        check_string_literal(array[18+k*11:18+(k+1)*11])    \n",
    "    return( m )\n",
    "\n",
    "def check_string_literal(padded_binary):\n",
    "    global count \n",
    "    n = len(padded_binary)\n",
    "    #print( padded_binary)\n",
    "    version = int( padded_binary[:3], 2)\n",
    "    count = count + version\n",
    "    type_id = int( padded_binary[3:6], 2) \n",
    "    if type_id == 4:\n",
    "        s = []\n",
    "        for j in range(6, n, 5):\n",
    "            l = padded_binary[j:j+5]\n",
    "            if l[0] == str(1):\n",
    "                s.append( l[1:] )\n",
    "            else:\n",
    "                s.append(l[1:])\n",
    "                break\n",
    "        value = int( ''.join(c for c in s ) , 2 )\n",
    "        #return( len(s ) )"
   ]
  },
  {
   "cell_type": "code",
   "execution_count": null,
   "metadata": {},
   "outputs": [],
   "source": [
    "def check_string()"
   ]
  },
  {
   "cell_type": "code",
   "execution_count": null,
   "metadata": {},
   "outputs": [],
   "source": [
    "\"\"\"\n",
    "Conversion hexa to binary\n",
    "https://www.kite.com/python/answers/how-to-convert-hexadecimal-into-binary-rounded-up-to-the-nearest-nibble-in-python\n",
    "\"\"\""
   ]
  }
 ],
 "metadata": {
  "kernelspec": {
   "display_name": "Python 3",
   "language": "python",
   "name": "python3"
  },
  "language_info": {
   "codemirror_mode": {
    "name": "ipython",
    "version": 3
   },
   "file_extension": ".py",
   "mimetype": "text/x-python",
   "name": "python",
   "nbconvert_exporter": "python",
   "pygments_lexer": "ipython3",
   "version": "3.8.10"
  }
 },
 "nbformat": 4,
 "nbformat_minor": 4
}
