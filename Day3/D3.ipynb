{
 "cells": [
  {
   "cell_type": "code",
   "execution_count": 1,
   "metadata": {},
   "outputs": [],
   "source": [
    "import numpy as np\n",
    "import pandas as pd"
   ]
  },
  {
   "cell_type": "code",
   "execution_count": 3,
   "metadata": {},
   "outputs": [
    {
     "name": "stdout",
     "output_type": "stream",
     "text": [
      "1000\n",
      "[0. 0. 0. 0. 0. 0. 0. 0. 0. 0. 0. 0.]\n",
      "[0. 1. 1. 1. 1. 1. 1. 0. 1. 1. 0. 0.]\n"
     ]
    }
   ],
   "source": [
    "data = np.loadtxt('3.txt', dtype='str')\n",
    "n = int(len(data[:]))\n",
    "print( n)\n",
    "N = 12\n",
    "values = np.zeros(12)\n",
    "print( values)\n",
    "for k in range(N):\n",
    "    for i in range(n):\n",
    "        values[k] = values[k] + int(data[i][k])\n",
    "    if values[k] /n > 0.5:\n",
    "        values[k] = 1\n",
    "    else:\n",
    "        values[k] = 0\n",
    "print( values)"
   ]
  },
  {
   "cell_type": "code",
   "execution_count": 4,
   "metadata": {},
   "outputs": [
    {
     "name": "stdout",
     "output_type": "stream",
     "text": [
      "4191876\n"
     ]
    }
   ],
   "source": [
    "print( int('011111101100', base = 2) *int('100000010011', base = 2) )"
   ]
  },
  {
   "cell_type": "code",
   "execution_count": 5,
   "metadata": {},
   "outputs": [
    {
     "name": "stdout",
     "output_type": "stream",
     "text": [
      "1000\n",
      "[0. 0. 0. 0. 0. 0. 0. 0. 0. 0. 0. 0.]\n",
      "[0. 1. 1. 1. 1. 1. 1. 0. 1. 1. 0. 0.]\n",
      "0 513.0\n",
      "1 257.0\n",
      "2 132.0\n",
      "3 69.0\n",
      "4 44.0\n",
      "5 22.0\n",
      "6 11.0\n",
      "7 6.0\n",
      "8 3.0\n",
      "9 2.0\n",
      "10 2.0\n",
      "11 1.0\n",
      "940 oxygen 010101101111\n"
     ]
    }
   ],
   "source": [
    "data = np.loadtxt('3.txt', dtype='str')\n",
    "n = int(len(data[:]))\n",
    "print( n)\n",
    "N = 12\n",
    "values = np.zeros(12)\n",
    "print( values)\n",
    "for k in range(N):\n",
    "    for i in range(n):\n",
    "        values[k] = values[k] + int(data[i][k])\n",
    "    if values[k] /n > 0.5:\n",
    "        values[k] = 1\n",
    "    else:\n",
    "        values[k] = 0\n",
    "print( values )\n",
    "\n",
    "\"\"\" creo maschera per tenere i valori \"\"\"\n",
    "mask = np.ones(n)\n",
    "m = n\n",
    "for k in range(N):\n",
    "    #print( k )\n",
    "    for i in range(n):\n",
    "        if mask[i] == 1:\n",
    "            if int(data[i][k]) == values[k]:\n",
    "                #print( 'qui')\n",
    "                mask[i] = 1\n",
    "            else:\n",
    "                mask[i] = 0\n",
    "    # Aggiorno array piu probabile\n",
    "    values = np.zeros(12)\n",
    "    for j in range(N):\n",
    "        m = np.sum(mask) \n",
    "        # I have to divide for the effective length\n",
    "        for t in range(n):\n",
    "            if mask[t] == 1:\n",
    "                values[j] = values[j] + int(data[t][j])\n",
    "        # For oxygen, if equally common, I keep 1\n",
    "        if values[j] /m >= 0.5:\n",
    "            values[j] = 1\n",
    "        else:\n",
    "            values[j] = 0\n",
    "    print( k, np.sum(mask))\n",
    "\n",
    "for i in range(n):\n",
    "    if mask[i] == 1:\n",
    "        print( i, 'oxygen',  data[i] )"
   ]
  },
  {
   "cell_type": "code",
   "execution_count": 6,
   "metadata": {},
   "outputs": [
    {
     "name": "stdout",
     "output_type": "stream",
     "text": [
      "1000\n",
      "[0. 0. 0. 0. 0. 0. 0. 0. 0. 0. 0. 0.]\n",
      "[0. 1. 1. 1. 1. 1. 1. 0. 1. 1. 0. 0.]\n",
      "0 487.0\n",
      "1 225.0\n",
      "2 112.0\n",
      "3 54.0\n",
      "4 23.0\n",
      "5 11.0\n",
      "6 5.0\n",
      "7 2.0\n",
      "8 1.0\n",
      "147 c02 100110010111\n",
      "9 0.0\n",
      "10 0.0\n",
      "11 0.0\n"
     ]
    },
    {
     "name": "stderr",
     "output_type": "stream",
     "text": [
      "/home/gianmarco/.local/lib/python3.7/site-packages/ipykernel_launcher.py:37: RuntimeWarning: invalid value encountered in double_scalars\n"
     ]
    }
   ],
   "source": [
    "data = np.loadtxt('3.txt', dtype='str')\n",
    "n = int(len(data[:]))\n",
    "print( n)\n",
    "N = 12\n",
    "values = np.zeros(12)\n",
    "print( values)\n",
    "for k in range(N):\n",
    "    for i in range(n):\n",
    "        values[k] = values[k] + int(data[i][k])\n",
    "    if values[k] /n > 0.5:\n",
    "        values[k] = 1\n",
    "    else:\n",
    "        values[k] = 0\n",
    "print( values )\n",
    "\n",
    "\"\"\" creo maschera per tenere i valori \"\"\"\n",
    "mask = np.ones(n)\n",
    "m = n\n",
    "for k in range(N):\n",
    "    for i in range(n):\n",
    "        if mask[i] == 1:\n",
    "            # i want to keep the less common\n",
    "            if int(data[i][k]) == values[k]:\n",
    "                #print( 'qui')\n",
    "                mask[i] = 0\n",
    "            else:\n",
    "                mask[i] = 1\n",
    "    # Values is always the array of the most probable value\n",
    "    values = np.zeros(12)\n",
    "    for j in range(N):\n",
    "        m = np.sum( mask )\n",
    "        # I want to divide for the effective length\n",
    "        for t in range(n):\n",
    "            if mask[t] == 1:\n",
    "                values[j] = values[j] + int(data[t][j])\n",
    "                \n",
    "        if values[j] /m >= 0.5:\n",
    "            values[j] = 1\n",
    "        else:\n",
    "            values[j] = 0\n",
    "\n",
    "    m = np.sum(mask)\n",
    "    print( k, m)\n",
    "    if m == 1:\n",
    "        for i in range(n):\n",
    "            if mask[i] == 1:\n",
    "                print( i, 'c02',  data[i] )                  "
   ]
  },
  {
   "cell_type": "code",
   "execution_count": 7,
   "metadata": {},
   "outputs": [
    {
     "name": "stdout",
     "output_type": "stream",
     "text": [
      "1391\n",
      "2455\n"
     ]
    }
   ],
   "source": [
    "print( int('010101101111', base = 2) ) \n",
    "print( int('100110010111', base = 2) )"
   ]
  },
  {
   "cell_type": "code",
   "execution_count": null,
   "metadata": {},
   "outputs": [],
   "source": []
  }
 ],
 "metadata": {
  "kernelspec": {
   "display_name": "Python 3",
   "language": "python",
   "name": "python3"
  },
  "language_info": {
   "codemirror_mode": {
    "name": "ipython",
    "version": 3
   },
   "file_extension": ".py",
   "mimetype": "text/x-python",
   "name": "python",
   "nbconvert_exporter": "python",
   "pygments_lexer": "ipython3",
   "version": "3.7.3"
  }
 },
 "nbformat": 4,
 "nbformat_minor": 4
}
