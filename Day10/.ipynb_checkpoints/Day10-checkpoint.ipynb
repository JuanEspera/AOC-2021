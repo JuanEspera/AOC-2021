{
 "cells": [
  {
   "cell_type": "code",
   "execution_count": 1,
   "metadata": {},
   "outputs": [],
   "source": [
    "import numpy as np\n",
    "import pandas as pd"
   ]
  },
  {
   "cell_type": "code",
   "execution_count": 146,
   "metadata": {},
   "outputs": [],
   "source": [
    "def check_lin( l ):\n",
    "    \n",
    "    k = 0\n",
    "    while k == 0:\n",
    "        k = 1\n",
    "        n = int(len(l))\n",
    "        for i in range(n-1):\n",
    "            if check_couple(l[i],l[i+1]):\n",
    "                #print( l[i], l[i+1])\n",
    "                del l[i:i+2]\n",
    "                k = 0\n",
    "                break\n",
    "    return l \n",
    "\n",
    "def check_couple(l , m):\n",
    "    if l == '{' and m == '}':\n",
    "        return 1\n",
    "    if l == '[' and m == ']':\n",
    "        return 1\n",
    "    if l == '<' and m == '>':\n",
    "        return 1\n",
    "    if l == '(' and m == ')':\n",
    "        return 1\n",
    "    return 0\n",
    "\n",
    "            \n",
    "def value(c ):\n",
    "    if c == ')':\n",
    "        return 3\n",
    "    if c == ']':\n",
    "        return 57\n",
    "    if c == '}':\n",
    "        return 1197\n",
    "    if c == '>':\n",
    "        return 25137\n",
    "    \n",
    "def see_mistake(line):\n",
    "    global count\n",
    "    n = int(len(line))\n",
    "    for i in range(n):\n",
    "        if line[i] == '>':\n",
    "            count = count + value(line[i])\n",
    "            break\n",
    "        if line[i] == '}':\n",
    "            count = count + value(line[i])\n",
    "            break\n",
    "        if line[i] == ']':\n",
    "            count = count + value(line[i])\n",
    "            break\n",
    "        if line[i] == ')':\n",
    "            count = count + value(line[i])\n",
    "            break\n",
    "\n",
    "def complete_line(l):\n",
    "        global complete\n",
    "        n = int(len(l))\n",
    "        value = 0\n",
    "        for i in range(1,n+1):\n",
    "            if l[n-i] == '[':\n",
    "                value = value*5\n",
    "                value = value + 2\n",
    "            elif l[n-i] == '{':\n",
    "                value = value*5\n",
    "                value = value + 3\n",
    "            elif l[n-i] == '<':\n",
    "                value = value*5\n",
    "                value = value + 4\n",
    "            elif l[n-i] == '(':\n",
    "                value = value*5\n",
    "                value = value + 1\n",
    "            else:\n",
    "                # this means I am no reading an incomplete line\n",
    "                value = 0\n",
    "                break\n",
    "        if value != 0:\n",
    "            complete = np.concatenate((complete, np.array([value]) ) )"
   ]
  },
  {
   "cell_type": "code",
   "execution_count": 148,
   "metadata": {},
   "outputs": [
    {
     "name": "stdout",
     "output_type": "stream",
     "text": [
      "3042730309\n"
     ]
    }
   ],
   "source": [
    "f = open(\"day10.txt\", \"r\")\n",
    "Lines = f.read().splitlines()\n",
    "nrow = len(Lines)\n",
    "ncol = len(Lines[0])\n",
    "numbers = np.zeros( ( nrow, ncol), dtype = int )\n",
    "count = 0\n",
    "complete = np.array([0])\n",
    "for i in range(nrow):\n",
    "    line = [char for char in Lines[i]] \n",
    "    line = check_lin( line )\n",
    "    see_mistake( line )\n",
    "    complete_line(line)\n",
    "complete = np.sort(complete )\n",
    "n = int(len(complete)/2)\n",
    "print( complete[n] )"
   ]
  },
  {
   "cell_type": "code",
   "execution_count": null,
   "metadata": {},
   "outputs": [],
   "source": []
  },
  {
   "cell_type": "code",
   "execution_count": null,
   "metadata": {},
   "outputs": [],
   "source": []
  },
  {
   "cell_type": "code",
   "execution_count": null,
   "metadata": {},
   "outputs": [],
   "source": [
    "\n"
   ]
  },
  {
   "cell_type": "code",
   "execution_count": null,
   "metadata": {},
   "outputs": [],
   "source": []
  },
  {
   "cell_type": "code",
   "execution_count": null,
   "metadata": {},
   "outputs": [],
   "source": []
  },
  {
   "cell_type": "code",
   "execution_count": null,
   "metadata": {},
   "outputs": [],
   "source": []
  }
 ],
 "metadata": {
  "kernelspec": {
   "display_name": "Python 3",
   "language": "python",
   "name": "python3"
  },
  "language_info": {
   "codemirror_mode": {
    "name": "ipython",
    "version": 3
   },
   "file_extension": ".py",
   "mimetype": "text/x-python",
   "name": "python",
   "nbconvert_exporter": "python",
   "pygments_lexer": "ipython3",
   "version": "3.8.10"
  }
 },
 "nbformat": 4,
 "nbformat_minor": 4
}
