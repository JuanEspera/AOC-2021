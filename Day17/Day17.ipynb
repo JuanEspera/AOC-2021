{
 "cells": [
  {
   "cell_type": "code",
   "execution_count": 1,
   "metadata": {},
   "outputs": [],
   "source": [
    "import numpy as np\n",
    "import pandas as pd"
   ]
  },
  {
   "cell_type": "code",
   "execution_count": 2,
   "metadata": {},
   "outputs": [],
   "source": [
    "#target area: x=70..96, y=-179..-124\n",
    "# Can be done analytically th problem? "
   ]
  },
  {
   "cell_type": "code",
   "execution_count": 13,
   "metadata": {},
   "outputs": [],
   "source": [
    "# I write the coordinate by hand then I create something to read the file, which is pretty ugly\n",
    "\n",
    "xmin = 20\n",
    "xmax = 30\n",
    "ymin = -10\n",
    "ymax = -5"
   ]
  },
  {
   "cell_type": "code",
   "execution_count": 14,
   "metadata": {},
   "outputs": [],
   "source": [
    "def check_trajectory(x, y):\n",
    "    global xmax\n",
    "    global ymin\n",
    "    if x > xmax:\n",
    "        return 0\n",
    "    if y < ymin:\n",
    "        return 0\n",
    "    return 1"
   ]
  },
  {
   "cell_type": "code",
   "execution_count": 64,
   "metadata": {},
   "outputs": [
    {
     "name": "stdout",
     "output_type": "stream",
     "text": [
      "15931\n",
      "2555\n"
     ]
    }
   ],
   "source": [
    "#Fatto prprio rozzo\n",
    "xmin = 70\n",
    "xmax = 96\n",
    "ymin = -179\n",
    "ymax = -124\n",
    "\n",
    "#xmin = 20\n",
    "#xmax = 30\n",
    "#ymin = -10\n",
    "#ymax = -5\n",
    "s = [] # array of maximum values\n",
    "vx_array = np.arange(0, 2*xmax,1)\n",
    "vy_array = np.arange(ymin, -ymin,1)\n",
    "\n",
    "n = int(len( vx_array))\n",
    "m = int(len( vy_array))\n",
    "\n",
    "for i in range(n):\n",
    "    for j in range(m):\n",
    "\n",
    "        x = 0\n",
    "        y = 0\n",
    "        lx = [x]\n",
    "        ly = [y]\n",
    "        vx0 = vx_array[i]\n",
    "        vy0 = vy_array[j]\n",
    "        vx = vx_array[i]\n",
    "        vy = vy_array[j]\n",
    "        # I can create it with list comprension ? Guess yes\n",
    "        while check_trajectory(x, y ):\n",
    "            lx.append( x + vx )\n",
    "            ly.append(y + vy) \n",
    "            x = lx[-1]\n",
    "            y = ly[-1]\n",
    "            vx = ( vx - 1 ) if vx > 0 else 0\n",
    "            vy = vy - 1\n",
    "        \n",
    "        # Check if the path is inside the area\n",
    "        for a, b in zip(lx, ly):\n",
    "            if a >= xmin and a <= xmax:\n",
    "                if b <= ymax and b >= ymin:\n",
    "                    #I store the maximum of this valid trajectory\n",
    "                    s.append(max(ly))\n",
    "                    break\n",
    "\n",
    "print( max( s) )\n",
    "print( len(s ))"
   ]
  },
  {
   "cell_type": "code",
   "execution_count": null,
   "metadata": {},
   "outputs": [],
   "source": []
  },
  {
   "cell_type": "code",
   "execution_count": null,
   "metadata": {},
   "outputs": [],
   "source": []
  }
 ],
 "metadata": {
  "kernelspec": {
   "display_name": "Python 3",
   "language": "python",
   "name": "python3"
  },
  "language_info": {
   "codemirror_mode": {
    "name": "ipython",
    "version": 3
   },
   "file_extension": ".py",
   "mimetype": "text/x-python",
   "name": "python",
   "nbconvert_exporter": "python",
   "pygments_lexer": "ipython3",
   "version": "3.8.10"
  }
 },
 "nbformat": 4,
 "nbformat_minor": 4
}
