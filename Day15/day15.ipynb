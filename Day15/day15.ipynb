{
 "cells": [
  {
   "cell_type": "code",
   "execution_count": 2,
   "metadata": {},
   "outputs": [],
   "source": [
    "import numpy as np\n",
    "import pandas as pd"
   ]
  },
  {
   "cell_type": "code",
   "execution_count": 58,
   "metadata": {},
   "outputs": [],
   "source": [
    "def create_map(array):\n",
    "    \n",
    "    nrow = int(len(array[0,:]))\n",
    "    ncol = int(len(array[:,0]))\n",
    "    \n",
    "    mappa = np.zeros((5*nrow, 5*ncol))\n",
    "    for i in range(5):\n",
    "        for j in range(5):\n",
    "            mappa[i*nrow:(i+1)*nrow,j*ncol:(j+1)*ncol ] = array + i + j\n",
    "            # Posso farlo alla fine\n",
    "            mappa[mappa > 9 ] = ( mappa[mappa > 9 ]%10 )+ 1\n",
    "    return mappa "
   ]
  },
  {
   "cell_type": "code",
   "execution_count": 59,
   "metadata": {},
   "outputs": [
    {
     "name": "stdout",
     "output_type": "stream",
     "text": [
      "[[6 8 9 ... 4 7 4]\n",
      " [5 3 7 ... 2 9 8]\n",
      " [8 7 9 ... 8 5 1]\n",
      " ...\n",
      " [9 1 2 ... 8 5 6]\n",
      " [3 7 9 ... 5 8 4]\n",
      " [9 9 8 ... 8 9 2]]\n",
      "[[6. 8. 9. ... 8. 2. 8.]\n",
      " [5. 3. 7. ... 6. 4. 3.]\n",
      " [8. 7. 9. ... 3. 9. 5.]\n",
      " ...\n",
      " [4. 5. 6. ... 7. 4. 5.]\n",
      " [7. 2. 4. ... 4. 7. 3.]\n",
      " [4. 4. 3. ... 7. 8. 1.]]\n",
      "500 500\n"
     ]
    }
   ],
   "source": [
    "f = open(\"day15.txt\", \"r\")\n",
    "Lines = f.read().splitlines()\n",
    "nrow = len(Lines)\n",
    "ncol = len(Lines[0])\n",
    "numbers = np.zeros( ( nrow, ncol), dtype = int )\n",
    "\n",
    "for i in range(nrow):\n",
    "    line = Lines[i]\n",
    "    j = 0;\n",
    "    for s in line:\n",
    "        numbers[i,j] = int(s)\n",
    "        j = j+1\n",
    "data = np.zeros((nrow+2,ncol+2))\n",
    "check = np.zeros((nrow+2,ncol+2))\n",
    "data[1:nrow+1,1:ncol+1] = numbers\n",
    "print( numbers )\n",
    "numbers = create_map(numbers)\n",
    "print( numbers )\n",
    "print( int(len(numbers[0,:])), int(len(numbers[:,0])))\n",
    "#Faccio solo destra e sinistra? \n",
    "#provo così va"
   ]
  },
  {
   "cell_type": "code",
   "execution_count": 61,
   "metadata": {},
   "outputs": [
    {
     "ename": "IndexError",
     "evalue": "index 2499 is out of bounds for axis 0 with size 500",
     "output_type": "error",
     "traceback": [
      "\u001b[0;31m---------------------------------------------------------------------------\u001b[0m",
      "\u001b[0;31mIndexError\u001b[0m                                Traceback (most recent call last)",
      "\u001b[0;32m<ipython-input-61-b20cea05f088>\u001b[0m in \u001b[0;36m<module>\u001b[0;34m\u001b[0m\n\u001b[1;32m      4\u001b[0m \u001b[0mncol\u001b[0m \u001b[0;34m=\u001b[0m \u001b[0;36m5\u001b[0m\u001b[0;34m*\u001b[0m\u001b[0mncol\u001b[0m\u001b[0;34m\u001b[0m\u001b[0;34m\u001b[0m\u001b[0m\n\u001b[1;32m      5\u001b[0m \u001b[0mcosti\u001b[0m \u001b[0;34m=\u001b[0m \u001b[0mnp\u001b[0m\u001b[0;34m.\u001b[0m\u001b[0mzeros\u001b[0m\u001b[0;34m(\u001b[0m\u001b[0;34m(\u001b[0m\u001b[0mnrow\u001b[0m\u001b[0;34m,\u001b[0m \u001b[0mncol\u001b[0m\u001b[0;34m)\u001b[0m\u001b[0;34m)\u001b[0m\u001b[0;34m\u001b[0m\u001b[0;34m\u001b[0m\u001b[0m\n\u001b[0;32m----> 6\u001b[0;31m \u001b[0mcosti\u001b[0m\u001b[0;34m[\u001b[0m\u001b[0mnrow\u001b[0m\u001b[0;34m-\u001b[0m\u001b[0;36m1\u001b[0m\u001b[0;34m,\u001b[0m \u001b[0mncol\u001b[0m\u001b[0;34m-\u001b[0m\u001b[0;36m1\u001b[0m\u001b[0;34m]\u001b[0m \u001b[0;34m=\u001b[0m \u001b[0mnumbers\u001b[0m\u001b[0;34m[\u001b[0m\u001b[0mnrow\u001b[0m\u001b[0;34m-\u001b[0m\u001b[0;36m1\u001b[0m\u001b[0;34m,\u001b[0m \u001b[0mncol\u001b[0m\u001b[0;34m-\u001b[0m\u001b[0;36m1\u001b[0m\u001b[0;34m]\u001b[0m\u001b[0;34m\u001b[0m\u001b[0;34m\u001b[0m\u001b[0m\n\u001b[0m\u001b[1;32m      7\u001b[0m \u001b[0mprint\u001b[0m\u001b[0;34m(\u001b[0m \u001b[0mcosti\u001b[0m \u001b[0;34m)\u001b[0m\u001b[0;34m\u001b[0m\u001b[0;34m\u001b[0m\u001b[0m\n\u001b[1;32m      8\u001b[0m \u001b[0;32mdef\u001b[0m \u001b[0mcost\u001b[0m\u001b[0;34m(\u001b[0m\u001b[0mposx\u001b[0m\u001b[0;34m,\u001b[0m \u001b[0mposy\u001b[0m\u001b[0;34m,\u001b[0m \u001b[0marray\u001b[0m\u001b[0;34m)\u001b[0m\u001b[0;34m:\u001b[0m\u001b[0;34m\u001b[0m\u001b[0;34m\u001b[0m\u001b[0m\n",
      "\u001b[0;31mIndexError\u001b[0m: index 2499 is out of bounds for axis 0 with size 500"
     ]
    }
   ],
   "source": [
    "#I want to create all the paths and then value the price of each path\n",
    "# I have to do 10 step down and then step right\n",
    "nrow = 5*nrow\n",
    "ncol = 5*ncol\n",
    "costi = np.zeros((nrow, ncol))\n",
    "costi[nrow-1, ncol-1] = numbers[nrow-1, ncol-1]\n",
    "print( costi )\n",
    "def cost(posx, posy, array):\n",
    "    global costi\n",
    "    global nrow\n",
    "    global ncol\n",
    "    costo_giu = 1000000000000\n",
    "    costo_destra = 100000000000\n",
    "    if posy + 1 < nrow:\n",
    "        costo_giu = costi[posx][posy+1] if costi[posx][posy+1] != 0 else cost(posx, posy+1, array )\n",
    "    \n",
    "    if posx +1 < ncol:\n",
    "        costo_destra = costi[posx+1][posy] if costi[posx+1][posy] != 0 else cost(posx+1, posy, array )     \n",
    "    \n",
    "    c = min( costo_destra, costo_giu)\n",
    "    costi[posx][posy] = array[posx][posy] + c\n",
    "    \n",
    "    return costi[posx][posy]\n",
    "\n",
    "cost( 0, 0, numbers) - numbers[0,0]"
   ]
  },
  {
   "cell_type": "code",
   "execution_count": 32,
   "metadata": {},
   "outputs": [
    {
     "data": {
      "text/plain": [
       "100181.0"
      ]
     },
     "execution_count": 32,
     "metadata": {},
     "output_type": "execute_result"
    }
   ],
   "source": [
    "nrow = 5*nrow\n",
    "ncol = 5*ncol\n",
    "costi = np.zeros((nrow,ncol))\n",
    "cost(0,0, mappa) - mappa[0,0]"
   ]
  },
  {
   "cell_type": "code",
   "execution_count": 4,
   "metadata": {},
   "outputs": [
    {
     "data": {
      "text/plain": [
       "3"
      ]
     },
     "execution_count": 4,
     "metadata": {},
     "output_type": "execute_result"
    }
   ],
   "source": [
    "a = 3\n",
    "b = 5\n",
    "min(3, 5)"
   ]
  },
  {
   "cell_type": "code",
   "execution_count": null,
   "metadata": {},
   "outputs": [],
   "source": []
  },
  {
   "cell_type": "code",
   "execution_count": null,
   "metadata": {},
   "outputs": [],
   "source": []
  }
 ],
 "metadata": {
  "kernelspec": {
   "display_name": "Python 3",
   "language": "python",
   "name": "python3"
  },
  "language_info": {
   "codemirror_mode": {
    "name": "ipython",
    "version": 3
   },
   "file_extension": ".py",
   "mimetype": "text/x-python",
   "name": "python",
   "nbconvert_exporter": "python",
   "pygments_lexer": "ipython3",
   "version": "3.8.10"
  }
 },
 "nbformat": 4,
 "nbformat_minor": 4
}
