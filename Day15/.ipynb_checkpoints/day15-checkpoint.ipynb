{
 "cells": [
  {
   "cell_type": "code",
   "execution_count": 2,
   "metadata": {},
   "outputs": [],
   "source": [
    "import numpy as np\n",
    "import pandas as pd"
   ]
  },
  {
   "cell_type": "code",
   "execution_count": 19,
   "metadata": {},
   "outputs": [],
   "source": [
    "def create_map(array):\n",
    "    \n",
    "    nrow = int(len(array[0,:]))\n",
    "    ncol = int(len(array[:,0]))\n",
    "    \n",
    "    mappa = np.zeros((5*nrow, 5*ncol))\n",
    "    for i in range(5):\n",
    "        for j in range(5):\n",
    "            mappa[i*nrow:(i+1)*nrow,j*ncol:(j+1)*ncol ] = array + i + j\n",
    "    \n",
    "    mappa[mappa > 9 ] = ( mappa[mappa > 9 ]%10 )+ 1\n",
    "    return mappa "
   ]
  },
  {
   "cell_type": "code",
   "execution_count": 22,
   "metadata": {},
   "outputs": [
    {
     "name": "stdout",
     "output_type": "stream",
     "text": [
      "[[1 1 6 3 7 5 1 7 4 2]\n",
      " [1 3 8 1 3 7 3 6 7 2]\n",
      " [2 1 3 6 5 1 1 3 2 8]\n",
      " [3 6 9 4 9 3 1 5 6 9]\n",
      " [7 4 6 3 4 1 7 1 1 1]\n",
      " [1 3 1 9 1 2 8 1 3 7]\n",
      " [1 3 5 9 9 1 2 4 2 1]\n",
      " [3 1 2 5 4 2 1 6 3 9]\n",
      " [1 2 9 3 1 3 8 5 2 1]\n",
      " [2 3 1 1 9 4 4 5 8 1]]\n"
     ]
    }
   ],
   "source": [
    "f = open(\"test.txt\", \"r\")\n",
    "Lines = f.read().splitlines()\n",
    "nrow = len(Lines)\n",
    "ncol = len(Lines[0])\n",
    "numbers = np.zeros( ( nrow, ncol), dtype = int )\n",
    "\n",
    "for i in range(nrow):\n",
    "    line = Lines[i]\n",
    "    j = 0;\n",
    "    for s in line:\n",
    "        numbers[i,j] = int(s)\n",
    "        j = j+1\n",
    "data = np.zeros((nrow+2,ncol+2))\n",
    "check = np.zeros((nrow+2,ncol+2))\n",
    "data[1:nrow+1,1:ncol+1] = numbers\n",
    "print( numbers )\n",
    "\n",
    "data = np.zeros((nrow+2, ncol+2, 1000))\n",
    "mappa = create_map(numbers)\n",
    "#Faccio solo destra e sinistra? \n",
    "#provo così va"
   ]
  },
  {
   "cell_type": "code",
   "execution_count": 17,
   "metadata": {},
   "outputs": [
    {
     "name": "stdout",
     "output_type": "stream",
     "text": [
      "[[0. 0. 0. ... 0. 0. 0.]\n",
      " [0. 0. 0. ... 0. 0. 0.]\n",
      " [0. 0. 0. ... 0. 0. 0.]\n",
      " ...\n",
      " [0. 0. 0. ... 0. 0. 0.]\n",
      " [0. 0. 0. ... 0. 0. 0.]\n",
      " [0. 0. 0. ... 0. 0. 2.]]\n"
     ]
    },
    {
     "data": {
      "text/plain": [
       "824.0"
      ]
     },
     "execution_count": 17,
     "metadata": {},
     "output_type": "execute_result"
    }
   ],
   "source": [
    "#I want to create all the paths and then value the price of each path\n",
    "# I have to do 10 step down and then step right\n",
    "costi = np.zeros((nrow, ncol))\n",
    "costi[nrow-1, ncol-1] = numbers[nrow-1, ncol-1]\n",
    "print( costi )\n",
    "def cost(posx, posy, array):\n",
    "    global costi\n",
    "    global nrow\n",
    "    global ncol\n",
    "    costo_giu = 1000000\n",
    "    costo_destra = 100000\n",
    "    if posy + 1 < nrow:\n",
    "        costo_giu = costi[posx][posy+1] if costi[posx][posy+1] != 0 else cost(posx, posy+1, array )\n",
    "    \n",
    "    if posx +1 < ncol:\n",
    "        costo_destra = costi[posx+1][posy] if costi[posx+1][posy] != 0 else cost(posx+1, posy, array )     \n",
    "    \n",
    "    c = min( costo_destra, costo_giu)\n",
    "    costi[posx][posy] = array[posx][posy] + c\n",
    "    \n",
    "    return costi[posx][posy]\n",
    "\n",
    "cost( 0, 0, numbers) - numbers[0,0]"
   ]
  },
  {
   "cell_type": "code",
   "execution_count": null,
   "metadata": {},
   "outputs": [],
   "source": [
    "costo(posx, posy, array_input, lato_array, costi):\n",
    "  se sei nella casella 1x1\n",
    "    aggiungi il costo in costi[posy][posx]\n",
    "    restituisci il valore della casella\n",
    "\n",
    "  costo_giu' = costo casella giu' se lo conosci in costi[posy + 1][posx], altrimenti costi(posx, posy + 1,  array_input, lato_array, costi)\n",
    "  costo_destra = costo casella a destra se lo conosci in costi[posy][posx + 1], altrimenti costi(posx + 1, posy,  array_input, lato_array, costi)\n",
    "  restituisci valore casella attuale + minimo(costo_giu', costo_destra)\n",
    "      costo(posx, posy, array_input, lato_array, costi):\n",
    "  se sei nella casella 1x1\n",
    "    aggiungi il costo in costi[posy][posx]\n",
    "    restituisci il valore della casella\n",
    "\n",
    "  costo_giu' = costo casella giu' se lo conosci in costi[posy + 1][posx], altrimenti costi(posx, posy + 1,  array_input, lato_array, costi)\n",
    "  costo_destra = costo casella a destra se lo conosci in costi[posy][posx + 1], altrimenti costi(posx + 1, posy,  array_input, lato_array, costi)\n",
    "  restituisci valore casella attuale + minimo(costo_giu', costo_destra)\n",
    "  "
   ]
  },
  {
   "cell_type": "code",
   "execution_count": 4,
   "metadata": {},
   "outputs": [
    {
     "data": {
      "text/plain": [
       "3"
      ]
     },
     "execution_count": 4,
     "metadata": {},
     "output_type": "execute_result"
    }
   ],
   "source": [
    "a = 3\n",
    "b = 5\n",
    "min(3, 5)"
   ]
  },
  {
   "cell_type": "code",
   "execution_count": null,
   "metadata": {},
   "outputs": [],
   "source": []
  },
  {
   "cell_type": "code",
   "execution_count": null,
   "metadata": {},
   "outputs": [],
   "source": []
  }
 ],
 "metadata": {
  "kernelspec": {
   "display_name": "Python 3",
   "language": "python",
   "name": "python3"
  },
  "language_info": {
   "codemirror_mode": {
    "name": "ipython",
    "version": 3
   },
   "file_extension": ".py",
   "mimetype": "text/x-python",
   "name": "python",
   "nbconvert_exporter": "python",
   "pygments_lexer": "ipython3",
   "version": "3.8.10"
  }
 },
 "nbformat": 4,
 "nbformat_minor": 4
}
