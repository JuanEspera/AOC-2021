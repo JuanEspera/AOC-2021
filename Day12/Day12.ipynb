{
 "cells": [
  {
   "cell_type": "markdown",
   "metadata": {},
   "source": [
    "### Day12\n"
   ]
  },
  {
   "cell_type": "code",
   "execution_count": 10,
   "metadata": {},
   "outputs": [],
   "source": [
    "import numpy as np\n",
    "import pandas as pd\n",
    "from collections import Counter\n",
    "import networkx as nx\n",
    "import matplotlib.pyplot as plt"
   ]
  },
  {
   "cell_type": "code",
   "execution_count": 18,
   "metadata": {},
   "outputs": [],
   "source": [
    "\n",
    "def check_small1(l):\n",
    "    s = [char for char in l if char.isupper() == False ]\n",
    "    m = len(Counter(s).values()) - len(s)\n",
    "    # if m is zero means that there are no repetition\n",
    "    if  m == 0:\n",
    "        return 1\n",
    "    else:\n",
    "        return 0 \n",
    "def check_small2(l):\n",
    "    s = [char for char in l if char.isupper() == False ]\n",
    "    m = np.abs(len(Counter(s).values()) - len(s) )\n",
    "    # if m is zero means that there are no repetition\n",
    "    if  m == 0 or m == 1:\n",
    "        return 1\n",
    "    else:\n",
    "        return 0 \n",
    "def count_paths1(path, G):\n",
    "    \n",
    "    for j in G.neighbors(path[-1]):\n",
    "        c = path.copy()\n",
    "        if j == 'start':\n",
    "            continue\n",
    "            #print( 'no')\n",
    "        else:\n",
    "            c.append(j)\n",
    "            #path.extend( j )\n",
    "            #print( c , j, path[-1], path)\n",
    "            if check_small1(c):\n",
    "                #print( c , j)\n",
    "                if j == 'end':\n",
    "                    global count\n",
    "                    count = count + 1\n",
    "                else:\n",
    "                    count_paths1(c,G)\n",
    "\n",
    "def count_paths2(path, G):\n",
    "    \n",
    "    for j in G.neighbors(path[-1]):\n",
    "        c = path.copy()\n",
    "        if j == 'start':\n",
    "            continue\n",
    "            #print( 'no')\n",
    "        else:\n",
    "            c.append(j)\n",
    "            #path.extend( j )\n",
    "            #print( c , j, path[-1], path)\n",
    "            if check_small2(c):\n",
    "                #print( c , j)\n",
    "                if j == 'end':\n",
    "                    global count\n",
    "                    count = count + 1\n",
    "                else:\n",
    "                    count_paths2(c,G)\n"
   ]
  },
  {
   "cell_type": "code",
   "execution_count": 19,
   "metadata": {},
   "outputs": [
    {
     "name": "stdout",
     "output_type": "stream",
     "text": [
      "[['CI' 'hb']\n",
      " ['IK' 'lr']\n",
      " ['vr' 'tf']\n",
      " ['lr' 'end']\n",
      " ['XP' 'tf']\n",
      " ['start' 'vr']\n",
      " ['lr' 'io']\n",
      " ['hb' 'qi']\n",
      " ['end' 'CI']\n",
      " ['tf' 'YK']\n",
      " ['end' 'YK']\n",
      " ['XP' 'lr']\n",
      " ['XP' 'vr']\n",
      " ['lr' 'EU']\n",
      " ['tf' 'CI']\n",
      " ['EU' 'vr']\n",
      " ['start' 'tf']\n",
      " ['YK' 'hb']\n",
      " ['YK' 'vr']\n",
      " ['start' 'EU']\n",
      " ['lr' 'CI']\n",
      " ['hb' 'XP']\n",
      " ['XP' 'io']\n",
      " ['tf' 'EU']]\n"
     ]
    }
   ],
   "source": [
    "data = np.loadtxt(\"day12.txt\", delimiter = '-', dtype = 'str')\n",
    "nrow = int(len(data[:,0]))\n",
    "ncol = int(len(data[0,:]))\n",
    "l = [ char for i in range(nrow) for char in data[i,:]]\n",
    "n = int(len(Counter(l).keys()) )\n",
    "print( data )"
   ]
  },
  {
   "cell_type": "code",
   "execution_count": null,
   "metadata": {},
   "outputs": [
    {
     "data": {
      "image/png": "[encoded data removed]",
      "text/plain": [
       "<Figure size 432x288 with 1 Axes>"
      ]
     },
     "metadata": {},
     "output_type": "display_data"
    },
    {
     "name": "stdout",
     "output_type": "stream",
     "text": [
      "['start', 'vr']\n",
      "['start', 'tf']\n",
      "['start', 'EU']\n"
     ]
    }
   ],
   "source": [
    "G = nx.Graph()\n",
    "for i in range(nrow):\n",
    "    G.add_edge(data[i,0], data[i,1])\n",
    "\n",
    "nx.draw(G, with_labels=True) #, node_color = values)\n",
    "plt.show()\n",
    "count = 0 \n",
    "u = 'start'\n",
    "for j in G.neighbors(u):\n",
    "    path = [u]\n",
    "    path.append(j )\n",
    "    print( path)\n",
    "    \n",
    "    if check_small2(path):\n",
    "        if path[-1] == 'end':\n",
    "            count = count + 1\n",
    "            #paths.append(path)\n",
    "        else:\n",
    "            count_paths2(path,  G)\n",
    "print( count )"
   ]
  },
  {
   "cell_type": "code",
   "execution_count": null,
   "metadata": {},
   "outputs": [],
   "source": []
  }
 ],
 "metadata": {
  "kernelspec": {
   "display_name": "Python 3",
   "language": "python",
   "name": "python3"
  },
  "language_info": {
   "codemirror_mode": {
    "name": "ipython",
    "version": 3
   },
   "file_extension": ".py",
   "mimetype": "text/x-python",
   "name": "python",
   "nbconvert_exporter": "python",
   "pygments_lexer": "ipython3",
   "version": "3.8.10"
  }
 },
 "nbformat": 4,
 "nbformat_minor": 4
}
