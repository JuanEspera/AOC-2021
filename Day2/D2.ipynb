{
 "cells": [
  {
   "cell_type": "code",
   "execution_count": 2,
   "metadata": {},
   "outputs": [],
   "source": [
    "import numpy as np\n",
    "import pandas as pd"
   ]
  },
  {
   "cell_type": "code",
   "execution_count": 3,
   "metadata": {},
   "outputs": [
    {
     "name": "stdout",
     "output_type": "stream",
     "text": [
      "2007 747 1499229\n",
      "2007 668080 1340836560\n"
     ]
    }
   ],
   "source": [
    "data = pd.read_csv( '2.txt', header = None, sep = ' ')\n",
    "data = data.to_numpy()\n",
    "n = int(len(data[:,0]))\n",
    "deep = 0\n",
    "hor = 0\n",
    "for i in range(n):\n",
    "    if data[i,0] == 'forward':\n",
    "        hor = hor +  data[i,1]  \n",
    "    if data[i,0] == 'down':\n",
    "        deep = deep +  data[i,1] \n",
    "    if data[i,0] == 'up':\n",
    "        deep = deep -  data[i,1] \n",
    "print( hor, deep, hor*deep )\n",
    "\n",
    "deep = 0\n",
    "hor = 0\n",
    "aim = 0\n",
    "for i in range(n):\n",
    "    if data[i,0] == 'forward':\n",
    "        hor = hor +  data[i,1]  \n",
    "        deep = deep + aim*data[i,1]\n",
    "    if data[i,0] == 'down':\n",
    "        aim = aim +  data[i,1] \n",
    "    if data[i,0] == 'up':\n",
    "        aim = aim -  data[i,1] \n",
    "print( hor, deep, hor*deep )"
   ]
  },
  {
   "cell_type": "code",
   "execution_count": null,
   "metadata": {},
   "outputs": [],
   "source": []
  }
 ],
 "metadata": {
  "kernelspec": {
   "display_name": "Python 3",
   "language": "python",
   "name": "python3"
  },
  "language_info": {
   "codemirror_mode": {
    "name": "ipython",
    "version": 3
   },
   "file_extension": ".py",
   "mimetype": "text/x-python",
   "name": "python",
   "nbconvert_exporter": "python",
   "pygments_lexer": "ipython3",
   "version": "3.7.3"
  }
 },
 "nbformat": 4,
 "nbformat_minor": 4
}
