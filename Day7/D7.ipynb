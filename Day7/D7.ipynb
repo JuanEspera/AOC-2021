{
 "cells": [
  {
   "cell_type": "code",
   "execution_count": 1,
   "metadata": {},
   "outputs": [],
   "source": [
    "import numpy as np\n",
    "import pandas as pd"
   ]
  },
  {
   "cell_type": "code",
   "execution_count": 4,
   "metadata": {},
   "outputs": [
    {
     "name": "stdout",
     "output_type": "stream",
     "text": [
      "1000 1952\n",
      "91257582.0\n"
     ]
    }
   ],
   "source": [
    "chain = np.loadtxt('7.txt', delimiter = ',', dtype = 'int')\n",
    "s = np.max( chain)\n",
    "n = int(len(chain))\n",
    "print( n, s)\n",
    "cost = np.zeros(s-1)\n",
    "t = np.arange( 1, s, 1)\n",
    "p = np.zeros(s)\n",
    "#print( t )\n",
    "\"\"\" Second part of \"\"\"\n",
    "for i in range( 1, s ): \n",
    "    l = 0\n",
    "    for j in range(n):\n",
    "        idx = np.abs(chain[j] - i )\n",
    "        # I can define an array that at each index has the \n",
    "        #sum up to that index\n",
    "        l = l + np.sum(t[:idx])\n",
    "    cost[i-1] = l \n",
    "    #cost[i-1] = np.sum( np.abs(chain - i))\n",
    "print( np.min(cost) )"
   ]
  },
  {
   "cell_type": "markdown",
   "metadata": {},
   "source": [
    "It can be done in a smart way by minimizing the distances\n",
    "\n",
    "Here a small comment on the smart way\n",
    "https://www.reddit.com/r/adventofcode/comments/rawxad/2021_day_7_part_2_i_wrote_a_paper_on_todays/"
   ]
  }
 ],
 "metadata": {
  "kernelspec": {
   "display_name": "Python 3",
   "language": "python",
   "name": "python3"
  },
  "language_info": {
   "codemirror_mode": {
    "name": "ipython",
    "version": 3
   },
   "file_extension": ".py",
   "mimetype": "text/x-python",
   "name": "python",
   "nbconvert_exporter": "python",
   "pygments_lexer": "ipython3",
   "version": "3.7.3"
  }
 },
 "nbformat": 4,
 "nbformat_minor": 4
}
