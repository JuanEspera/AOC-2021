{
 "cells": [
  {
   "cell_type": "code",
   "execution_count": 2,
   "metadata": {},
   "outputs": [],
   "source": [
    "import numpy as np\n",
    "import pandas as pd"
   ]
  },
  {
   "cell_type": "code",
   "execution_count": 5,
   "metadata": {},
   "outputs": [
    {
     "name": "stdout",
     "output_type": "stream",
     "text": [
      "1617359101538\n"
     ]
    }
   ],
   "source": [
    "from functools import lru_cache\n",
    "@lru_cache(maxsize = 128, typed = True)\n",
    "def birth(i, days):\n",
    "\n",
    "    idx = 0\n",
    "    while i < days:\n",
    "        idx = idx + 1\n",
    "        idx = idx + birth(i+9, days)\n",
    "        i = i + 7\n",
    "    return idx       \n",
    "chain = np.loadtxt('6.txt', delimiter = ',')\n",
    "days = 256\n",
    "\n",
    "\n",
    "c = int(len(chain))\n",
    "fish = 0\n",
    "for i in range(int(len(chain))):\n",
    "    n = int(chain[i] )\n",
    "    #print( n)\n",
    "    fish = fish + birth(n, days)\n",
    "print( fish + c  )"
   ]
  },
  {
   "cell_type": "code",
   "execution_count": null,
   "metadata": {},
   "outputs": [],
   "source": []
  }
 ],
 "metadata": {
  "kernelspec": {
   "display_name": "Python 3",
   "language": "python",
   "name": "python3"
  },
  "language_info": {
   "codemirror_mode": {
    "name": "ipython",
    "version": 3
   },
   "file_extension": ".py",
   "mimetype": "text/x-python",
   "name": "python",
   "nbconvert_exporter": "python",
   "pygments_lexer": "ipython3",
   "version": "3.7.3"
  }
 },
 "nbformat": 4,
 "nbformat_minor": 4
}
