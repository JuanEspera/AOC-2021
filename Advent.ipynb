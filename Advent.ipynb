{
 "cells": [
  {
   "cell_type": "code",
   "execution_count": 6,
   "metadata": {},
   "outputs": [],
   "source": [
    "import numpy as np\n",
    "import pandas as pd"
   ]
  },
  {
   "cell_type": "markdown",
   "metadata": {},
   "source": [
    "### Day 1"
   ]
  },
  {
   "cell_type": "code",
   "execution_count": 12,
   "metadata": {},
   "outputs": [
    {
     "name": "stdout",
     "output_type": "stream",
     "text": [
      "1167\n",
      "1130\n"
     ]
    }
   ],
   "source": [
    "data = np.loadtxt('1.txt')\n",
    "n = int(len(data))\n",
    "idx = 0\n",
    "for i in range(1, n):\n",
    "    diff = data[i] - data[i-1]\n",
    "    if diff > 0:\n",
    "        idx = idx + 1\n",
    "print( idx)\n",
    "\n",
    "second = np.zeros(n-2)\n",
    "for i in range(2, n):\n",
    "    second[i-2] = np.sum(data[i-2:i+1])\n",
    "n = int(len(second))\n",
    "idx = 0\n",
    "for i in range(1, n):\n",
    "    diff = second[i] - second[i-1]\n",
    "    if diff > 0:\n",
    "        idx = idx + 1\n",
    "print( idx )"
   ]
  },
  {
   "cell_type": "markdown",
   "metadata": {},
   "source": [
    "### Day 2"
   ]
  },
  {
   "cell_type": "code",
   "execution_count": 17,
   "metadata": {},
   "outputs": [
    {
     "name": "stdout",
     "output_type": "stream",
     "text": [
      "2007 747 1499229\n",
      "2007 668080 1340836560\n"
     ]
    }
   ],
   "source": [
    "data = pd.read_csv( '2.txt', header = None, sep = ' ')\n",
    "data = data.to_numpy()\n",
    "n = int(len(data[:,0]))\n",
    "deep = 0\n",
    "hor = 0\n",
    "for i in range(n):\n",
    "    if data[i,0] == 'forward':\n",
    "        hor = hor +  data[i,1]  \n",
    "    if data[i,0] == 'down':\n",
    "        deep = deep +  data[i,1] \n",
    "    if data[i,0] == 'up':\n",
    "        deep = deep -  data[i,1] \n",
    "print( hor, deep, hor*deep )\n",
    "\n",
    "deep = 0\n",
    "hor = 0\n",
    "aim = 0\n",
    "for i in range(n):\n",
    "    if data[i,0] == 'forward':\n",
    "        hor = hor +  data[i,1]  \n",
    "        deep = deep + aim*data[i,1]\n",
    "    if data[i,0] == 'down':\n",
    "        aim = aim +  data[i,1] \n",
    "    if data[i,0] == 'up':\n",
    "        aim = aim -  data[i,1] \n",
    "print( hor, deep, hor*deep )"
   ]
  },
  {
   "cell_type": "code",
   "execution_count": 26,
   "metadata": {},
   "outputs": [],
   "source": [
    "np.loadtxt?"
   ]
  },
  {
   "cell_type": "code",
   "execution_count": 61,
   "metadata": {},
   "outputs": [
    {
     "name": "stdout",
     "output_type": "stream",
     "text": [
      "1000\n",
      "[0. 0. 0. 0. 0. 0. 0. 0. 0. 0. 0. 0.]\n",
      "[0. 1. 1. 1. 1. 1. 1. 0. 1. 1. 0. 0.]\n"
     ]
    }
   ],
   "source": [
    "data = np.loadtxt('3.txt', dtype='str')\n",
    "n = int(len(data[:]))\n",
    "print( n)\n",
    "N = 12\n",
    "values = np.zeros(12)\n",
    "print( values)\n",
    "for k in range(N):\n",
    "    for i in range(n):\n",
    "        values[k] = values[k] + int(data[i][k])\n",
    "    if values[k] /n > 0.5:\n",
    "        values[k] = 1\n",
    "    else:\n",
    "        values[k] = 0\n",
    "print( values)"
   ]
  },
  {
   "cell_type": "code",
   "execution_count": 49,
   "metadata": {},
   "outputs": [
    {
     "name": "stdout",
     "output_type": "stream",
     "text": [
      "4191876\n"
     ]
    }
   ],
   "source": [
    "print( int('011111101100', base = 2) *int('100000010011', base = 2) )"
   ]
  },
  {
   "cell_type": "code",
   "execution_count": 140,
   "metadata": {},
   "outputs": [
    {
     "name": "stdout",
     "output_type": "stream",
     "text": [
      "1000\n",
      "[0. 0. 0. 0. 0. 0. 0. 0. 0. 0. 0. 0.]\n",
      "[0. 1. 1. 1. 1. 1. 1. 0. 1. 1. 0. 0.]\n",
      "0 513.0\n",
      "1 257.0\n",
      "2 132.0\n",
      "3 69.0\n",
      "4 44.0\n",
      "5 22.0\n",
      "6 11.0\n",
      "7 6.0\n",
      "8 3.0\n",
      "9 2.0\n",
      "10 2.0\n",
      "11 1.0\n",
      "940 oxygen 010101101111\n"
     ]
    }
   ],
   "source": [
    "data = np.loadtxt('3.txt', dtype='str')\n",
    "n = int(len(data[:]))\n",
    "print( n)\n",
    "N = 12\n",
    "values = np.zeros(12)\n",
    "print( values)\n",
    "for k in range(N):\n",
    "    for i in range(n):\n",
    "        values[k] = values[k] + int(data[i][k])\n",
    "    if values[k] /n > 0.5:\n",
    "        values[k] = 1\n",
    "    else:\n",
    "        values[k] = 0\n",
    "print( values )\n",
    "\n",
    "\"\"\" creo maschera per tenere i valori \"\"\"\n",
    "mask = np.ones(n)\n",
    "m = n\n",
    "for k in range(N):\n",
    "    #print( k )\n",
    "    for i in range(n):\n",
    "        if mask[i] == 1:\n",
    "            if int(data[i][k]) == values[k]:\n",
    "                #print( 'qui')\n",
    "                mask[i] = 1\n",
    "            else:\n",
    "                mask[i] = 0\n",
    "    # Aggiorno array piu probabile\n",
    "    values = np.zeros(12)\n",
    "    for j in range(N):\n",
    "        m = np.sum(mask) \n",
    "        # I have to divide for the effective length\n",
    "        for t in range(n):\n",
    "            if mask[t] == 1:\n",
    "                values[j] = values[j] + int(data[t][j])\n",
    "        # For oxygen, if equally common, I keep 1\n",
    "        if values[j] /m >= 0.5:\n",
    "            values[j] = 1\n",
    "        else:\n",
    "            values[j] = 0\n",
    "    print( k, np.sum(mask))\n",
    "\n",
    "for i in range(n):\n",
    "    if mask[i] == 1:\n",
    "        print( i, 'oxygen',  data[i] )"
   ]
  },
  {
   "cell_type": "code",
   "execution_count": 139,
   "metadata": {},
   "outputs": [
    {
     "name": "stdout",
     "output_type": "stream",
     "text": [
      "1000\n",
      "[0. 0. 0. 0. 0. 0. 0. 0. 0. 0. 0. 0.]\n",
      "[0. 1. 1. 1. 1. 1. 1. 0. 1. 1. 0. 0.]\n",
      "0 487.0\n",
      "1 225.0\n",
      "2 112.0\n",
      "3 54.0\n",
      "4 23.0\n",
      "5 11.0\n",
      "6 5.0\n",
      "7 2.0\n",
      "8 1.0\n",
      "147 c02 100110010111\n",
      "9 0.0\n",
      "10 0.0\n",
      "11 0.0\n"
     ]
    },
    {
     "name": "stderr",
     "output_type": "stream",
     "text": [
      "/home/gianmarco/.local/lib/python3.7/site-packages/ipykernel_launcher.py:37: RuntimeWarning: invalid value encountered in double_scalars\n"
     ]
    }
   ],
   "source": [
    "data = np.loadtxt('3.txt', dtype='str')\n",
    "n = int(len(data[:]))\n",
    "print( n)\n",
    "N = 12\n",
    "values = np.zeros(12)\n",
    "print( values)\n",
    "for k in range(N):\n",
    "    for i in range(n):\n",
    "        values[k] = values[k] + int(data[i][k])\n",
    "    if values[k] /n > 0.5:\n",
    "        values[k] = 1\n",
    "    else:\n",
    "        values[k] = 0\n",
    "print( values )\n",
    "\n",
    "\"\"\" creo maschera per tenere i valori \"\"\"\n",
    "mask = np.ones(n)\n",
    "m = n\n",
    "for k in range(N):\n",
    "    for i in range(n):\n",
    "        if mask[i] == 1:\n",
    "            # i want to keep the less common\n",
    "            if int(data[i][k]) == values[k]:\n",
    "                #print( 'qui')\n",
    "                mask[i] = 0\n",
    "            else:\n",
    "                mask[i] = 1\n",
    "    # Values is always the array of the most probable value\n",
    "    values = np.zeros(12)\n",
    "    for j in range(N):\n",
    "        m = np.sum( mask )\n",
    "        # I want to divide for the effective length\n",
    "        for t in range(n):\n",
    "            if mask[t] == 1:\n",
    "                values[j] = values[j] + int(data[t][j])\n",
    "                \n",
    "        if values[j] /m >= 0.5:\n",
    "            values[j] = 1\n",
    "        else:\n",
    "            values[j] = 0\n",
    "\n",
    "    m = np.sum(mask)\n",
    "    print( k, m)\n",
    "    if m == 1:\n",
    "        for i in range(n):\n",
    "            if mask[i] == 1:\n",
    "                print( i, 'c02',  data[i] )                  "
   ]
  },
  {
   "cell_type": "code",
   "execution_count": 141,
   "metadata": {},
   "outputs": [
    {
     "name": "stdout",
     "output_type": "stream",
     "text": [
      "1391\n",
      "2455\n"
     ]
    }
   ],
   "source": [
    "print( int('010101101111', base = 2) ) \n",
    "print( int('100110010111', base = 2) )"
   ]
  },
  {
   "cell_type": "code",
   "execution_count": 142,
   "metadata": {},
   "outputs": [
    {
     "name": "stdout",
     "output_type": "stream",
     "text": [
      "3414905\n"
     ]
    }
   ],
   "source": []
  },
  {
   "cell_type": "code",
   "execution_count": 19,
   "metadata": {},
   "outputs": [
    {
     "name": "stdout",
     "output_type": "stream",
     "text": [
      "0 300\n",
      "1 300\n",
      "2 399\n",
      "3 456\n",
      "4 499\n",
      "5 547\n",
      "6 600\n",
      "7 600\n",
      "8 600\n",
      "9 699\n",
      "10 756\n",
      "11 898\n",
      "12 1003\n",
      "13 1099\n",
      "14 1147\n",
      "15 1200\n",
      "16 1299\n",
      "17 1356\n",
      "18 1597\n",
      "19 1759\n",
      "20 1997\n",
      "21 2150\n",
      "22 2299\n",
      "23 2446\n",
      "24 2556\n",
      "25 2896\n",
      "26 3115\n",
      "27 3594\n",
      "28 3909\n",
      "29 4296\n",
      "30 4596\n",
      "31 4855\n",
      "32 5342\n",
      "33 5671\n",
      "34 6490\n",
      "35 7024\n",
      "36 7890\n",
      "37 8505\n",
      "38 9151\n",
      "39 9938\n",
      "40 10526\n",
      "41 11832\n",
      "42 12695\n",
      "43 14380\n",
      "44 15529\n",
      "45 17041\n",
      "46 18443\n",
      "47 19677\n",
      "48 21770\n",
      "49 23221\n",
      "50 26212\n",
      "51 28224\n",
      "52 31421\n",
      "53 33972\n",
      "54 36718\n",
      "55 40213\n",
      "56 42898\n",
      "57 47982\n",
      "58 51445\n",
      "59 57633\n",
      "60 62196\n",
      "61 68139\n",
      "62 74185\n",
      "63 79616\n",
      "64 88195\n",
      "65 94343\n",
      "66 105615\n",
      "67 113641\n",
      "68 125772\n",
      "69 136381\n",
      "70 147755\n",
      "71 162380\n",
      "72 173959\n",
      "73 193810\n",
      "74 207984\n",
      "75 231387\n",
      "76 250022\n",
      "77 273527\n",
      "78 298761\n",
      "79 321714\n",
      "80 356190\n",
      "81 381943\n"
     ]
    },
    {
     "ename": "KeyboardInterrupt",
     "evalue": "",
     "output_type": "error",
     "traceback": [
      "\u001b[0;31m---------------------------------------------------------------------------\u001b[0m",
      "\u001b[0;31mKeyboardInterrupt\u001b[0m                         Traceback (most recent call last)",
      "\u001b[0;32m<ipython-input-19-dcc51cea1f0c>\u001b[0m in \u001b[0;36m<module>\u001b[0;34m\u001b[0m\n\u001b[1;32m      6\u001b[0m         \u001b[0;32mif\u001b[0m \u001b[0mchain\u001b[0m\u001b[0;34m[\u001b[0m\u001b[0mj\u001b[0m\u001b[0;34m]\u001b[0m \u001b[0;34m==\u001b[0m \u001b[0;36m0\u001b[0m\u001b[0;34m:\u001b[0m\u001b[0;34m\u001b[0m\u001b[0;34m\u001b[0m\u001b[0m\n\u001b[1;32m      7\u001b[0m             \u001b[0mchain\u001b[0m\u001b[0;34m[\u001b[0m\u001b[0mj\u001b[0m\u001b[0;34m]\u001b[0m \u001b[0;34m=\u001b[0m \u001b[0;36m6\u001b[0m\u001b[0;34m\u001b[0m\u001b[0;34m\u001b[0m\u001b[0m\n\u001b[0;32m----> 8\u001b[0;31m             \u001b[0mchain\u001b[0m \u001b[0;34m=\u001b[0m \u001b[0mnp\u001b[0m\u001b[0;34m.\u001b[0m\u001b[0mappend\u001b[0m\u001b[0;34m(\u001b[0m\u001b[0mchain\u001b[0m\u001b[0;34m,\u001b[0m \u001b[0;36m8\u001b[0m\u001b[0;34m)\u001b[0m\u001b[0;34m\u001b[0m\u001b[0;34m\u001b[0m\u001b[0m\n\u001b[0m\u001b[1;32m      9\u001b[0m         \u001b[0;32melse\u001b[0m\u001b[0;34m:\u001b[0m\u001b[0;34m\u001b[0m\u001b[0;34m\u001b[0m\u001b[0m\n\u001b[1;32m     10\u001b[0m             \u001b[0mchain\u001b[0m\u001b[0;34m[\u001b[0m\u001b[0mj\u001b[0m\u001b[0;34m]\u001b[0m \u001b[0;34m=\u001b[0m \u001b[0mchain\u001b[0m\u001b[0;34m[\u001b[0m\u001b[0mj\u001b[0m\u001b[0;34m]\u001b[0m \u001b[0;34m-\u001b[0m \u001b[0;36m1\u001b[0m\u001b[0;34m\u001b[0m\u001b[0;34m\u001b[0m\u001b[0m\n",
      "\u001b[0;32m<__array_function__ internals>\u001b[0m in \u001b[0;36mappend\u001b[0;34m(*args, **kwargs)\u001b[0m\n",
      "\u001b[0;32m~/.local/lib/python3.7/site-packages/numpy/lib/function_base.py\u001b[0m in \u001b[0;36mappend\u001b[0;34m(arr, values, axis)\u001b[0m\n\u001b[1;32m   4669\u001b[0m         \u001b[0mvalues\u001b[0m \u001b[0;34m=\u001b[0m \u001b[0mravel\u001b[0m\u001b[0;34m(\u001b[0m\u001b[0mvalues\u001b[0m\u001b[0;34m)\u001b[0m\u001b[0;34m\u001b[0m\u001b[0;34m\u001b[0m\u001b[0m\n\u001b[1;32m   4670\u001b[0m         \u001b[0maxis\u001b[0m \u001b[0;34m=\u001b[0m \u001b[0marr\u001b[0m\u001b[0;34m.\u001b[0m\u001b[0mndim\u001b[0m\u001b[0;34m-\u001b[0m\u001b[0;36m1\u001b[0m\u001b[0;34m\u001b[0m\u001b[0;34m\u001b[0m\u001b[0m\n\u001b[0;32m-> 4671\u001b[0;31m     \u001b[0;32mreturn\u001b[0m \u001b[0mconcatenate\u001b[0m\u001b[0;34m(\u001b[0m\u001b[0;34m(\u001b[0m\u001b[0marr\u001b[0m\u001b[0;34m,\u001b[0m \u001b[0mvalues\u001b[0m\u001b[0;34m)\u001b[0m\u001b[0;34m,\u001b[0m \u001b[0maxis\u001b[0m\u001b[0;34m=\u001b[0m\u001b[0maxis\u001b[0m\u001b[0;34m)\u001b[0m\u001b[0;34m\u001b[0m\u001b[0;34m\u001b[0m\u001b[0m\n\u001b[0m\u001b[1;32m   4672\u001b[0m \u001b[0;34m\u001b[0m\u001b[0m\n\u001b[1;32m   4673\u001b[0m \u001b[0;34m\u001b[0m\u001b[0m\n",
      "\u001b[0;32m<__array_function__ internals>\u001b[0m in \u001b[0;36mconcatenate\u001b[0;34m(*args, **kwargs)\u001b[0m\n",
      "\u001b[0;31mKeyboardInterrupt\u001b[0m: "
     ]
    }
   ],
   "source": [
    "chain = np.loadtxt('6.txt', delimiter = ',')\n",
    "days = 256\n",
    "for i in range(days):\n",
    "    n = int(len(chain))\n",
    "    for j in range(n):\n",
    "        if chain[j] == 0:\n",
    "            chain[j] = 6\n",
    "            chain = np.append(chain, 8)\n",
    "        else:\n",
    "            chain[j] = chain[j] - 1\n",
    "    print( i , n)\n",
    "print( int(len(chain)))"
   ]
  },
  {
   "cell_type": "code",
   "execution_count": 150,
   "metadata": {},
   "outputs": [
    {
     "ename": "KeyboardInterrupt",
     "evalue": "",
     "output_type": "error",
     "traceback": [
      "\u001b[0;31m---------------------------------------------------------------------------\u001b[0m",
      "\u001b[0;31mKeyboardInterrupt\u001b[0m                         Traceback (most recent call last)",
      "\u001b[0;32m<ipython-input-150-db3f246791a4>\u001b[0m in \u001b[0;36m<module>\u001b[0;34m\u001b[0m\n\u001b[1;32m     19\u001b[0m     \u001b[0mn\u001b[0m \u001b[0;34m=\u001b[0m \u001b[0mint\u001b[0m\u001b[0;34m(\u001b[0m\u001b[0mchain\u001b[0m\u001b[0;34m[\u001b[0m\u001b[0mi\u001b[0m\u001b[0;34m]\u001b[0m \u001b[0;34m)\u001b[0m\u001b[0;34m\u001b[0m\u001b[0;34m\u001b[0m\u001b[0m\n\u001b[1;32m     20\u001b[0m     \u001b[0;31m#print( n)\u001b[0m\u001b[0;34m\u001b[0m\u001b[0;34m\u001b[0m\u001b[0;34m\u001b[0m\u001b[0m\n\u001b[0;32m---> 21\u001b[0;31m     \u001b[0mfish\u001b[0m \u001b[0;34m=\u001b[0m \u001b[0mbirth\u001b[0m\u001b[0;34m(\u001b[0m \u001b[0mfish\u001b[0m\u001b[0;34m,\u001b[0m \u001b[0mdays\u001b[0m\u001b[0;34m,\u001b[0m \u001b[0mn\u001b[0m\u001b[0;34m)\u001b[0m\u001b[0;34m\u001b[0m\u001b[0;34m\u001b[0m\u001b[0m\n\u001b[0m\u001b[1;32m     22\u001b[0m \u001b[0;34m\u001b[0m\u001b[0m\n\u001b[1;32m     23\u001b[0m \u001b[0mprint\u001b[0m\u001b[0;34m(\u001b[0m \u001b[0mnp\u001b[0m\u001b[0;34m.\u001b[0m\u001b[0msum\u001b[0m\u001b[0;34m(\u001b[0m\u001b[0mfish\u001b[0m\u001b[0;34m[\u001b[0m\u001b[0;34m:\u001b[0m\u001b[0mdays\u001b[0m\u001b[0;34m]\u001b[0m\u001b[0;34m)\u001b[0m \u001b[0;34m+\u001b[0m \u001b[0mc\u001b[0m \u001b[0;34m)\u001b[0m\u001b[0;34m\u001b[0m\u001b[0;34m\u001b[0m\u001b[0m\n",
      "\u001b[0;32m<ipython-input-150-db3f246791a4>\u001b[0m in \u001b[0;36mbirth\u001b[0;34m(fish, days, n)\u001b[0m\n\u001b[1;32m      7\u001b[0m         \u001b[0mfish\u001b[0m\u001b[0;34m[\u001b[0m\u001b[0mn\u001b[0m\u001b[0;34m]\u001b[0m \u001b[0;34m=\u001b[0m \u001b[0mfish\u001b[0m\u001b[0;34m[\u001b[0m\u001b[0mn\u001b[0m\u001b[0;34m]\u001b[0m \u001b[0;34m+\u001b[0m \u001b[0;36m1\u001b[0m\u001b[0;34m\u001b[0m\u001b[0;34m\u001b[0m\u001b[0m\n\u001b[1;32m      8\u001b[0m         \u001b[0;31m#fish[n+8] = fish[n+8] + 1\u001b[0m\u001b[0;34m\u001b[0m\u001b[0;34m\u001b[0m\u001b[0;34m\u001b[0m\u001b[0m\n\u001b[0;32m----> 9\u001b[0;31m         \u001b[0mfish\u001b[0m \u001b[0;34m=\u001b[0m \u001b[0mbirth\u001b[0m\u001b[0;34m(\u001b[0m \u001b[0mfish\u001b[0m\u001b[0;34m,\u001b[0m \u001b[0mdays\u001b[0m\u001b[0;34m,\u001b[0m \u001b[0mn\u001b[0m \u001b[0;34m+\u001b[0m \u001b[0;36m9\u001b[0m\u001b[0;34m)\u001b[0m\u001b[0;34m\u001b[0m\u001b[0;34m\u001b[0m\u001b[0m\n\u001b[0m\u001b[1;32m     10\u001b[0m         \u001b[0;31m#n = days\u001b[0m\u001b[0;34m\u001b[0m\u001b[0;34m\u001b[0m\u001b[0;34m\u001b[0m\u001b[0m\n\u001b[1;32m     11\u001b[0m         \u001b[0mn\u001b[0m \u001b[0;34m=\u001b[0m \u001b[0mn\u001b[0m \u001b[0;34m+\u001b[0m \u001b[0;36m7\u001b[0m\u001b[0;34m\u001b[0m\u001b[0;34m\u001b[0m\u001b[0m\n",
      "\u001b[0;32m<ipython-input-150-db3f246791a4>\u001b[0m in \u001b[0;36mbirth\u001b[0;34m(fish, days, n)\u001b[0m\n\u001b[1;32m      7\u001b[0m         \u001b[0mfish\u001b[0m\u001b[0;34m[\u001b[0m\u001b[0mn\u001b[0m\u001b[0;34m]\u001b[0m \u001b[0;34m=\u001b[0m \u001b[0mfish\u001b[0m\u001b[0;34m[\u001b[0m\u001b[0mn\u001b[0m\u001b[0;34m]\u001b[0m \u001b[0;34m+\u001b[0m \u001b[0;36m1\u001b[0m\u001b[0;34m\u001b[0m\u001b[0;34m\u001b[0m\u001b[0m\n\u001b[1;32m      8\u001b[0m         \u001b[0;31m#fish[n+8] = fish[n+8] + 1\u001b[0m\u001b[0;34m\u001b[0m\u001b[0;34m\u001b[0m\u001b[0;34m\u001b[0m\u001b[0m\n\u001b[0;32m----> 9\u001b[0;31m         \u001b[0mfish\u001b[0m \u001b[0;34m=\u001b[0m \u001b[0mbirth\u001b[0m\u001b[0;34m(\u001b[0m \u001b[0mfish\u001b[0m\u001b[0;34m,\u001b[0m \u001b[0mdays\u001b[0m\u001b[0;34m,\u001b[0m \u001b[0mn\u001b[0m \u001b[0;34m+\u001b[0m \u001b[0;36m9\u001b[0m\u001b[0;34m)\u001b[0m\u001b[0;34m\u001b[0m\u001b[0;34m\u001b[0m\u001b[0m\n\u001b[0m\u001b[1;32m     10\u001b[0m         \u001b[0;31m#n = days\u001b[0m\u001b[0;34m\u001b[0m\u001b[0;34m\u001b[0m\u001b[0;34m\u001b[0m\u001b[0m\n\u001b[1;32m     11\u001b[0m         \u001b[0mn\u001b[0m \u001b[0;34m=\u001b[0m \u001b[0mn\u001b[0m \u001b[0;34m+\u001b[0m \u001b[0;36m7\u001b[0m\u001b[0;34m\u001b[0m\u001b[0;34m\u001b[0m\u001b[0m\n",
      "\u001b[0;32m<ipython-input-150-db3f246791a4>\u001b[0m in \u001b[0;36mbirth\u001b[0;34m(fish, days, n)\u001b[0m\n\u001b[1;32m      7\u001b[0m         \u001b[0mfish\u001b[0m\u001b[0;34m[\u001b[0m\u001b[0mn\u001b[0m\u001b[0;34m]\u001b[0m \u001b[0;34m=\u001b[0m \u001b[0mfish\u001b[0m\u001b[0;34m[\u001b[0m\u001b[0mn\u001b[0m\u001b[0;34m]\u001b[0m \u001b[0;34m+\u001b[0m \u001b[0;36m1\u001b[0m\u001b[0;34m\u001b[0m\u001b[0;34m\u001b[0m\u001b[0m\n\u001b[1;32m      8\u001b[0m         \u001b[0;31m#fish[n+8] = fish[n+8] + 1\u001b[0m\u001b[0;34m\u001b[0m\u001b[0;34m\u001b[0m\u001b[0;34m\u001b[0m\u001b[0m\n\u001b[0;32m----> 9\u001b[0;31m         \u001b[0mfish\u001b[0m \u001b[0;34m=\u001b[0m \u001b[0mbirth\u001b[0m\u001b[0;34m(\u001b[0m \u001b[0mfish\u001b[0m\u001b[0;34m,\u001b[0m \u001b[0mdays\u001b[0m\u001b[0;34m,\u001b[0m \u001b[0mn\u001b[0m \u001b[0;34m+\u001b[0m \u001b[0;36m9\u001b[0m\u001b[0;34m)\u001b[0m\u001b[0;34m\u001b[0m\u001b[0;34m\u001b[0m\u001b[0m\n\u001b[0m\u001b[1;32m     10\u001b[0m         \u001b[0;31m#n = days\u001b[0m\u001b[0;34m\u001b[0m\u001b[0;34m\u001b[0m\u001b[0;34m\u001b[0m\u001b[0m\n\u001b[1;32m     11\u001b[0m         \u001b[0mn\u001b[0m \u001b[0;34m=\u001b[0m \u001b[0mn\u001b[0m \u001b[0;34m+\u001b[0m \u001b[0;36m7\u001b[0m\u001b[0;34m\u001b[0m\u001b[0;34m\u001b[0m\u001b[0m\n",
      "\u001b[0;32m<ipython-input-150-db3f246791a4>\u001b[0m in \u001b[0;36mbirth\u001b[0;34m(fish, days, n)\u001b[0m\n\u001b[1;32m      7\u001b[0m         \u001b[0mfish\u001b[0m\u001b[0;34m[\u001b[0m\u001b[0mn\u001b[0m\u001b[0;34m]\u001b[0m \u001b[0;34m=\u001b[0m \u001b[0mfish\u001b[0m\u001b[0;34m[\u001b[0m\u001b[0mn\u001b[0m\u001b[0;34m]\u001b[0m \u001b[0;34m+\u001b[0m \u001b[0;36m1\u001b[0m\u001b[0;34m\u001b[0m\u001b[0;34m\u001b[0m\u001b[0m\n\u001b[1;32m      8\u001b[0m         \u001b[0;31m#fish[n+8] = fish[n+8] + 1\u001b[0m\u001b[0;34m\u001b[0m\u001b[0;34m\u001b[0m\u001b[0;34m\u001b[0m\u001b[0m\n\u001b[0;32m----> 9\u001b[0;31m         \u001b[0mfish\u001b[0m \u001b[0;34m=\u001b[0m \u001b[0mbirth\u001b[0m\u001b[0;34m(\u001b[0m \u001b[0mfish\u001b[0m\u001b[0;34m,\u001b[0m \u001b[0mdays\u001b[0m\u001b[0;34m,\u001b[0m \u001b[0mn\u001b[0m \u001b[0;34m+\u001b[0m \u001b[0;36m9\u001b[0m\u001b[0;34m)\u001b[0m\u001b[0;34m\u001b[0m\u001b[0;34m\u001b[0m\u001b[0m\n\u001b[0m\u001b[1;32m     10\u001b[0m         \u001b[0;31m#n = days\u001b[0m\u001b[0;34m\u001b[0m\u001b[0;34m\u001b[0m\u001b[0;34m\u001b[0m\u001b[0m\n\u001b[1;32m     11\u001b[0m         \u001b[0mn\u001b[0m \u001b[0;34m=\u001b[0m \u001b[0mn\u001b[0m \u001b[0;34m+\u001b[0m \u001b[0;36m7\u001b[0m\u001b[0;34m\u001b[0m\u001b[0;34m\u001b[0m\u001b[0m\n",
      "\u001b[0;32m<ipython-input-150-db3f246791a4>\u001b[0m in \u001b[0;36mbirth\u001b[0;34m(fish, days, n)\u001b[0m\n\u001b[1;32m      7\u001b[0m         \u001b[0mfish\u001b[0m\u001b[0;34m[\u001b[0m\u001b[0mn\u001b[0m\u001b[0;34m]\u001b[0m \u001b[0;34m=\u001b[0m \u001b[0mfish\u001b[0m\u001b[0;34m[\u001b[0m\u001b[0mn\u001b[0m\u001b[0;34m]\u001b[0m \u001b[0;34m+\u001b[0m \u001b[0;36m1\u001b[0m\u001b[0;34m\u001b[0m\u001b[0;34m\u001b[0m\u001b[0m\n\u001b[1;32m      8\u001b[0m         \u001b[0;31m#fish[n+8] = fish[n+8] + 1\u001b[0m\u001b[0;34m\u001b[0m\u001b[0;34m\u001b[0m\u001b[0;34m\u001b[0m\u001b[0m\n\u001b[0;32m----> 9\u001b[0;31m         \u001b[0mfish\u001b[0m \u001b[0;34m=\u001b[0m \u001b[0mbirth\u001b[0m\u001b[0;34m(\u001b[0m \u001b[0mfish\u001b[0m\u001b[0;34m,\u001b[0m \u001b[0mdays\u001b[0m\u001b[0;34m,\u001b[0m \u001b[0mn\u001b[0m \u001b[0;34m+\u001b[0m \u001b[0;36m9\u001b[0m\u001b[0;34m)\u001b[0m\u001b[0;34m\u001b[0m\u001b[0;34m\u001b[0m\u001b[0m\n\u001b[0m\u001b[1;32m     10\u001b[0m         \u001b[0;31m#n = days\u001b[0m\u001b[0;34m\u001b[0m\u001b[0;34m\u001b[0m\u001b[0;34m\u001b[0m\u001b[0m\n\u001b[1;32m     11\u001b[0m         \u001b[0mn\u001b[0m \u001b[0;34m=\u001b[0m \u001b[0mn\u001b[0m \u001b[0;34m+\u001b[0m \u001b[0;36m7\u001b[0m\u001b[0;34m\u001b[0m\u001b[0;34m\u001b[0m\u001b[0m\n",
      "\u001b[0;32m<ipython-input-150-db3f246791a4>\u001b[0m in \u001b[0;36mbirth\u001b[0;34m(fish, days, n)\u001b[0m\n\u001b[1;32m      7\u001b[0m         \u001b[0mfish\u001b[0m\u001b[0;34m[\u001b[0m\u001b[0mn\u001b[0m\u001b[0;34m]\u001b[0m \u001b[0;34m=\u001b[0m \u001b[0mfish\u001b[0m\u001b[0;34m[\u001b[0m\u001b[0mn\u001b[0m\u001b[0;34m]\u001b[0m \u001b[0;34m+\u001b[0m \u001b[0;36m1\u001b[0m\u001b[0;34m\u001b[0m\u001b[0;34m\u001b[0m\u001b[0m\n\u001b[1;32m      8\u001b[0m         \u001b[0;31m#fish[n+8] = fish[n+8] + 1\u001b[0m\u001b[0;34m\u001b[0m\u001b[0;34m\u001b[0m\u001b[0;34m\u001b[0m\u001b[0m\n\u001b[0;32m----> 9\u001b[0;31m         \u001b[0mfish\u001b[0m \u001b[0;34m=\u001b[0m \u001b[0mbirth\u001b[0m\u001b[0;34m(\u001b[0m \u001b[0mfish\u001b[0m\u001b[0;34m,\u001b[0m \u001b[0mdays\u001b[0m\u001b[0;34m,\u001b[0m \u001b[0mn\u001b[0m \u001b[0;34m+\u001b[0m \u001b[0;36m9\u001b[0m\u001b[0;34m)\u001b[0m\u001b[0;34m\u001b[0m\u001b[0;34m\u001b[0m\u001b[0m\n\u001b[0m\u001b[1;32m     10\u001b[0m         \u001b[0;31m#n = days\u001b[0m\u001b[0;34m\u001b[0m\u001b[0;34m\u001b[0m\u001b[0;34m\u001b[0m\u001b[0m\n\u001b[1;32m     11\u001b[0m         \u001b[0mn\u001b[0m \u001b[0;34m=\u001b[0m \u001b[0mn\u001b[0m \u001b[0;34m+\u001b[0m \u001b[0;36m7\u001b[0m\u001b[0;34m\u001b[0m\u001b[0;34m\u001b[0m\u001b[0m\n",
      "\u001b[0;32m<ipython-input-150-db3f246791a4>\u001b[0m in \u001b[0;36mbirth\u001b[0;34m(fish, days, n)\u001b[0m\n\u001b[1;32m      7\u001b[0m         \u001b[0mfish\u001b[0m\u001b[0;34m[\u001b[0m\u001b[0mn\u001b[0m\u001b[0;34m]\u001b[0m \u001b[0;34m=\u001b[0m \u001b[0mfish\u001b[0m\u001b[0;34m[\u001b[0m\u001b[0mn\u001b[0m\u001b[0;34m]\u001b[0m \u001b[0;34m+\u001b[0m \u001b[0;36m1\u001b[0m\u001b[0;34m\u001b[0m\u001b[0;34m\u001b[0m\u001b[0m\n\u001b[1;32m      8\u001b[0m         \u001b[0;31m#fish[n+8] = fish[n+8] + 1\u001b[0m\u001b[0;34m\u001b[0m\u001b[0;34m\u001b[0m\u001b[0;34m\u001b[0m\u001b[0m\n\u001b[0;32m----> 9\u001b[0;31m         \u001b[0mfish\u001b[0m \u001b[0;34m=\u001b[0m \u001b[0mbirth\u001b[0m\u001b[0;34m(\u001b[0m \u001b[0mfish\u001b[0m\u001b[0;34m,\u001b[0m \u001b[0mdays\u001b[0m\u001b[0;34m,\u001b[0m \u001b[0mn\u001b[0m \u001b[0;34m+\u001b[0m \u001b[0;36m9\u001b[0m\u001b[0;34m)\u001b[0m\u001b[0;34m\u001b[0m\u001b[0;34m\u001b[0m\u001b[0m\n\u001b[0m\u001b[1;32m     10\u001b[0m         \u001b[0;31m#n = days\u001b[0m\u001b[0;34m\u001b[0m\u001b[0;34m\u001b[0m\u001b[0;34m\u001b[0m\u001b[0m\n\u001b[1;32m     11\u001b[0m         \u001b[0mn\u001b[0m \u001b[0;34m=\u001b[0m \u001b[0mn\u001b[0m \u001b[0;34m+\u001b[0m \u001b[0;36m7\u001b[0m\u001b[0;34m\u001b[0m\u001b[0;34m\u001b[0m\u001b[0m\n",
      "\u001b[0;32m<ipython-input-150-db3f246791a4>\u001b[0m in \u001b[0;36mbirth\u001b[0;34m(fish, days, n)\u001b[0m\n\u001b[1;32m      7\u001b[0m         \u001b[0mfish\u001b[0m\u001b[0;34m[\u001b[0m\u001b[0mn\u001b[0m\u001b[0;34m]\u001b[0m \u001b[0;34m=\u001b[0m \u001b[0mfish\u001b[0m\u001b[0;34m[\u001b[0m\u001b[0mn\u001b[0m\u001b[0;34m]\u001b[0m \u001b[0;34m+\u001b[0m \u001b[0;36m1\u001b[0m\u001b[0;34m\u001b[0m\u001b[0;34m\u001b[0m\u001b[0m\n\u001b[1;32m      8\u001b[0m         \u001b[0;31m#fish[n+8] = fish[n+8] + 1\u001b[0m\u001b[0;34m\u001b[0m\u001b[0;34m\u001b[0m\u001b[0;34m\u001b[0m\u001b[0m\n\u001b[0;32m----> 9\u001b[0;31m         \u001b[0mfish\u001b[0m \u001b[0;34m=\u001b[0m \u001b[0mbirth\u001b[0m\u001b[0;34m(\u001b[0m \u001b[0mfish\u001b[0m\u001b[0;34m,\u001b[0m \u001b[0mdays\u001b[0m\u001b[0;34m,\u001b[0m \u001b[0mn\u001b[0m \u001b[0;34m+\u001b[0m \u001b[0;36m9\u001b[0m\u001b[0;34m)\u001b[0m\u001b[0;34m\u001b[0m\u001b[0;34m\u001b[0m\u001b[0m\n\u001b[0m\u001b[1;32m     10\u001b[0m         \u001b[0;31m#n = days\u001b[0m\u001b[0;34m\u001b[0m\u001b[0;34m\u001b[0m\u001b[0;34m\u001b[0m\u001b[0m\n\u001b[1;32m     11\u001b[0m         \u001b[0mn\u001b[0m \u001b[0;34m=\u001b[0m \u001b[0mn\u001b[0m \u001b[0;34m+\u001b[0m \u001b[0;36m7\u001b[0m\u001b[0;34m\u001b[0m\u001b[0;34m\u001b[0m\u001b[0m\n",
      "\u001b[0;32m<ipython-input-150-db3f246791a4>\u001b[0m in \u001b[0;36mbirth\u001b[0;34m(fish, days, n)\u001b[0m\n\u001b[1;32m      7\u001b[0m         \u001b[0mfish\u001b[0m\u001b[0;34m[\u001b[0m\u001b[0mn\u001b[0m\u001b[0;34m]\u001b[0m \u001b[0;34m=\u001b[0m \u001b[0mfish\u001b[0m\u001b[0;34m[\u001b[0m\u001b[0mn\u001b[0m\u001b[0;34m]\u001b[0m \u001b[0;34m+\u001b[0m \u001b[0;36m1\u001b[0m\u001b[0;34m\u001b[0m\u001b[0;34m\u001b[0m\u001b[0m\n\u001b[1;32m      8\u001b[0m         \u001b[0;31m#fish[n+8] = fish[n+8] + 1\u001b[0m\u001b[0;34m\u001b[0m\u001b[0;34m\u001b[0m\u001b[0;34m\u001b[0m\u001b[0m\n\u001b[0;32m----> 9\u001b[0;31m         \u001b[0mfish\u001b[0m \u001b[0;34m=\u001b[0m \u001b[0mbirth\u001b[0m\u001b[0;34m(\u001b[0m \u001b[0mfish\u001b[0m\u001b[0;34m,\u001b[0m \u001b[0mdays\u001b[0m\u001b[0;34m,\u001b[0m \u001b[0mn\u001b[0m \u001b[0;34m+\u001b[0m \u001b[0;36m9\u001b[0m\u001b[0;34m)\u001b[0m\u001b[0;34m\u001b[0m\u001b[0;34m\u001b[0m\u001b[0m\n\u001b[0m\u001b[1;32m     10\u001b[0m         \u001b[0;31m#n = days\u001b[0m\u001b[0;34m\u001b[0m\u001b[0;34m\u001b[0m\u001b[0;34m\u001b[0m\u001b[0m\n\u001b[1;32m     11\u001b[0m         \u001b[0mn\u001b[0m \u001b[0;34m=\u001b[0m \u001b[0mn\u001b[0m \u001b[0;34m+\u001b[0m \u001b[0;36m7\u001b[0m\u001b[0;34m\u001b[0m\u001b[0;34m\u001b[0m\u001b[0m\n",
      "\u001b[0;32m<ipython-input-150-db3f246791a4>\u001b[0m in \u001b[0;36mbirth\u001b[0;34m(fish, days, n)\u001b[0m\n\u001b[1;32m      7\u001b[0m         \u001b[0mfish\u001b[0m\u001b[0;34m[\u001b[0m\u001b[0mn\u001b[0m\u001b[0;34m]\u001b[0m \u001b[0;34m=\u001b[0m \u001b[0mfish\u001b[0m\u001b[0;34m[\u001b[0m\u001b[0mn\u001b[0m\u001b[0;34m]\u001b[0m \u001b[0;34m+\u001b[0m \u001b[0;36m1\u001b[0m\u001b[0;34m\u001b[0m\u001b[0;34m\u001b[0m\u001b[0m\n\u001b[1;32m      8\u001b[0m         \u001b[0;31m#fish[n+8] = fish[n+8] + 1\u001b[0m\u001b[0;34m\u001b[0m\u001b[0;34m\u001b[0m\u001b[0;34m\u001b[0m\u001b[0m\n\u001b[0;32m----> 9\u001b[0;31m         \u001b[0mfish\u001b[0m \u001b[0;34m=\u001b[0m \u001b[0mbirth\u001b[0m\u001b[0;34m(\u001b[0m \u001b[0mfish\u001b[0m\u001b[0;34m,\u001b[0m \u001b[0mdays\u001b[0m\u001b[0;34m,\u001b[0m \u001b[0mn\u001b[0m \u001b[0;34m+\u001b[0m \u001b[0;36m9\u001b[0m\u001b[0;34m)\u001b[0m\u001b[0;34m\u001b[0m\u001b[0;34m\u001b[0m\u001b[0m\n\u001b[0m\u001b[1;32m     10\u001b[0m         \u001b[0;31m#n = days\u001b[0m\u001b[0;34m\u001b[0m\u001b[0;34m\u001b[0m\u001b[0;34m\u001b[0m\u001b[0m\n\u001b[1;32m     11\u001b[0m         \u001b[0mn\u001b[0m \u001b[0;34m=\u001b[0m \u001b[0mn\u001b[0m \u001b[0;34m+\u001b[0m \u001b[0;36m7\u001b[0m\u001b[0;34m\u001b[0m\u001b[0;34m\u001b[0m\u001b[0m\n",
      "\u001b[0;32m<ipython-input-150-db3f246791a4>\u001b[0m in \u001b[0;36mbirth\u001b[0;34m(fish, days, n)\u001b[0m\n\u001b[1;32m      7\u001b[0m         \u001b[0mfish\u001b[0m\u001b[0;34m[\u001b[0m\u001b[0mn\u001b[0m\u001b[0;34m]\u001b[0m \u001b[0;34m=\u001b[0m \u001b[0mfish\u001b[0m\u001b[0;34m[\u001b[0m\u001b[0mn\u001b[0m\u001b[0;34m]\u001b[0m \u001b[0;34m+\u001b[0m \u001b[0;36m1\u001b[0m\u001b[0;34m\u001b[0m\u001b[0;34m\u001b[0m\u001b[0m\n\u001b[1;32m      8\u001b[0m         \u001b[0;31m#fish[n+8] = fish[n+8] + 1\u001b[0m\u001b[0;34m\u001b[0m\u001b[0;34m\u001b[0m\u001b[0;34m\u001b[0m\u001b[0m\n\u001b[0;32m----> 9\u001b[0;31m         \u001b[0mfish\u001b[0m \u001b[0;34m=\u001b[0m \u001b[0mbirth\u001b[0m\u001b[0;34m(\u001b[0m \u001b[0mfish\u001b[0m\u001b[0;34m,\u001b[0m \u001b[0mdays\u001b[0m\u001b[0;34m,\u001b[0m \u001b[0mn\u001b[0m \u001b[0;34m+\u001b[0m \u001b[0;36m9\u001b[0m\u001b[0;34m)\u001b[0m\u001b[0;34m\u001b[0m\u001b[0;34m\u001b[0m\u001b[0m\n\u001b[0m\u001b[1;32m     10\u001b[0m         \u001b[0;31m#n = days\u001b[0m\u001b[0;34m\u001b[0m\u001b[0;34m\u001b[0m\u001b[0;34m\u001b[0m\u001b[0m\n\u001b[1;32m     11\u001b[0m         \u001b[0mn\u001b[0m \u001b[0;34m=\u001b[0m \u001b[0mn\u001b[0m \u001b[0;34m+\u001b[0m \u001b[0;36m7\u001b[0m\u001b[0;34m\u001b[0m\u001b[0;34m\u001b[0m\u001b[0m\n",
      "\u001b[0;32m<ipython-input-150-db3f246791a4>\u001b[0m in \u001b[0;36mbirth\u001b[0;34m(fish, days, n)\u001b[0m\n\u001b[1;32m      7\u001b[0m         \u001b[0mfish\u001b[0m\u001b[0;34m[\u001b[0m\u001b[0mn\u001b[0m\u001b[0;34m]\u001b[0m \u001b[0;34m=\u001b[0m \u001b[0mfish\u001b[0m\u001b[0;34m[\u001b[0m\u001b[0mn\u001b[0m\u001b[0;34m]\u001b[0m \u001b[0;34m+\u001b[0m \u001b[0;36m1\u001b[0m\u001b[0;34m\u001b[0m\u001b[0;34m\u001b[0m\u001b[0m\n\u001b[1;32m      8\u001b[0m         \u001b[0;31m#fish[n+8] = fish[n+8] + 1\u001b[0m\u001b[0;34m\u001b[0m\u001b[0;34m\u001b[0m\u001b[0;34m\u001b[0m\u001b[0m\n\u001b[0;32m----> 9\u001b[0;31m         \u001b[0mfish\u001b[0m \u001b[0;34m=\u001b[0m \u001b[0mbirth\u001b[0m\u001b[0;34m(\u001b[0m \u001b[0mfish\u001b[0m\u001b[0;34m,\u001b[0m \u001b[0mdays\u001b[0m\u001b[0;34m,\u001b[0m \u001b[0mn\u001b[0m \u001b[0;34m+\u001b[0m \u001b[0;36m9\u001b[0m\u001b[0;34m)\u001b[0m\u001b[0;34m\u001b[0m\u001b[0;34m\u001b[0m\u001b[0m\n\u001b[0m\u001b[1;32m     10\u001b[0m         \u001b[0;31m#n = days\u001b[0m\u001b[0;34m\u001b[0m\u001b[0;34m\u001b[0m\u001b[0;34m\u001b[0m\u001b[0m\n\u001b[1;32m     11\u001b[0m         \u001b[0mn\u001b[0m \u001b[0;34m=\u001b[0m \u001b[0mn\u001b[0m \u001b[0;34m+\u001b[0m \u001b[0;36m7\u001b[0m\u001b[0;34m\u001b[0m\u001b[0;34m\u001b[0m\u001b[0m\n",
      "\u001b[0;32m<ipython-input-150-db3f246791a4>\u001b[0m in \u001b[0;36mbirth\u001b[0;34m(fish, days, n)\u001b[0m\n\u001b[1;32m      7\u001b[0m         \u001b[0mfish\u001b[0m\u001b[0;34m[\u001b[0m\u001b[0mn\u001b[0m\u001b[0;34m]\u001b[0m \u001b[0;34m=\u001b[0m \u001b[0mfish\u001b[0m\u001b[0;34m[\u001b[0m\u001b[0mn\u001b[0m\u001b[0;34m]\u001b[0m \u001b[0;34m+\u001b[0m \u001b[0;36m1\u001b[0m\u001b[0;34m\u001b[0m\u001b[0;34m\u001b[0m\u001b[0m\n\u001b[1;32m      8\u001b[0m         \u001b[0;31m#fish[n+8] = fish[n+8] + 1\u001b[0m\u001b[0;34m\u001b[0m\u001b[0;34m\u001b[0m\u001b[0;34m\u001b[0m\u001b[0m\n\u001b[0;32m----> 9\u001b[0;31m         \u001b[0mfish\u001b[0m \u001b[0;34m=\u001b[0m \u001b[0mbirth\u001b[0m\u001b[0;34m(\u001b[0m \u001b[0mfish\u001b[0m\u001b[0;34m,\u001b[0m \u001b[0mdays\u001b[0m\u001b[0;34m,\u001b[0m \u001b[0mn\u001b[0m \u001b[0;34m+\u001b[0m \u001b[0;36m9\u001b[0m\u001b[0;34m)\u001b[0m\u001b[0;34m\u001b[0m\u001b[0;34m\u001b[0m\u001b[0m\n\u001b[0m\u001b[1;32m     10\u001b[0m         \u001b[0;31m#n = days\u001b[0m\u001b[0;34m\u001b[0m\u001b[0;34m\u001b[0m\u001b[0;34m\u001b[0m\u001b[0m\n\u001b[1;32m     11\u001b[0m         \u001b[0mn\u001b[0m \u001b[0;34m=\u001b[0m \u001b[0mn\u001b[0m \u001b[0;34m+\u001b[0m \u001b[0;36m7\u001b[0m\u001b[0;34m\u001b[0m\u001b[0;34m\u001b[0m\u001b[0m\n",
      "\u001b[0;32m<ipython-input-150-db3f246791a4>\u001b[0m in \u001b[0;36mbirth\u001b[0;34m(fish, days, n)\u001b[0m\n\u001b[1;32m      7\u001b[0m         \u001b[0mfish\u001b[0m\u001b[0;34m[\u001b[0m\u001b[0mn\u001b[0m\u001b[0;34m]\u001b[0m \u001b[0;34m=\u001b[0m \u001b[0mfish\u001b[0m\u001b[0;34m[\u001b[0m\u001b[0mn\u001b[0m\u001b[0;34m]\u001b[0m \u001b[0;34m+\u001b[0m \u001b[0;36m1\u001b[0m\u001b[0;34m\u001b[0m\u001b[0;34m\u001b[0m\u001b[0m\n\u001b[1;32m      8\u001b[0m         \u001b[0;31m#fish[n+8] = fish[n+8] + 1\u001b[0m\u001b[0;34m\u001b[0m\u001b[0;34m\u001b[0m\u001b[0;34m\u001b[0m\u001b[0m\n\u001b[0;32m----> 9\u001b[0;31m         \u001b[0mfish\u001b[0m \u001b[0;34m=\u001b[0m \u001b[0mbirth\u001b[0m\u001b[0;34m(\u001b[0m \u001b[0mfish\u001b[0m\u001b[0;34m,\u001b[0m \u001b[0mdays\u001b[0m\u001b[0;34m,\u001b[0m \u001b[0mn\u001b[0m \u001b[0;34m+\u001b[0m \u001b[0;36m9\u001b[0m\u001b[0;34m)\u001b[0m\u001b[0;34m\u001b[0m\u001b[0;34m\u001b[0m\u001b[0m\n\u001b[0m\u001b[1;32m     10\u001b[0m         \u001b[0;31m#n = days\u001b[0m\u001b[0;34m\u001b[0m\u001b[0;34m\u001b[0m\u001b[0;34m\u001b[0m\u001b[0m\n\u001b[1;32m     11\u001b[0m         \u001b[0mn\u001b[0m \u001b[0;34m=\u001b[0m \u001b[0mn\u001b[0m \u001b[0;34m+\u001b[0m \u001b[0;36m7\u001b[0m\u001b[0;34m\u001b[0m\u001b[0;34m\u001b[0m\u001b[0m\n",
      "\u001b[0;32m<ipython-input-150-db3f246791a4>\u001b[0m in \u001b[0;36mbirth\u001b[0;34m(fish, days, n)\u001b[0m\n\u001b[1;32m      7\u001b[0m         \u001b[0mfish\u001b[0m\u001b[0;34m[\u001b[0m\u001b[0mn\u001b[0m\u001b[0;34m]\u001b[0m \u001b[0;34m=\u001b[0m \u001b[0mfish\u001b[0m\u001b[0;34m[\u001b[0m\u001b[0mn\u001b[0m\u001b[0;34m]\u001b[0m \u001b[0;34m+\u001b[0m \u001b[0;36m1\u001b[0m\u001b[0;34m\u001b[0m\u001b[0;34m\u001b[0m\u001b[0m\n\u001b[1;32m      8\u001b[0m         \u001b[0;31m#fish[n+8] = fish[n+8] + 1\u001b[0m\u001b[0;34m\u001b[0m\u001b[0;34m\u001b[0m\u001b[0;34m\u001b[0m\u001b[0m\n\u001b[0;32m----> 9\u001b[0;31m         \u001b[0mfish\u001b[0m \u001b[0;34m=\u001b[0m \u001b[0mbirth\u001b[0m\u001b[0;34m(\u001b[0m \u001b[0mfish\u001b[0m\u001b[0;34m,\u001b[0m \u001b[0mdays\u001b[0m\u001b[0;34m,\u001b[0m \u001b[0mn\u001b[0m \u001b[0;34m+\u001b[0m \u001b[0;36m9\u001b[0m\u001b[0;34m)\u001b[0m\u001b[0;34m\u001b[0m\u001b[0;34m\u001b[0m\u001b[0m\n\u001b[0m\u001b[1;32m     10\u001b[0m         \u001b[0;31m#n = days\u001b[0m\u001b[0;34m\u001b[0m\u001b[0;34m\u001b[0m\u001b[0;34m\u001b[0m\u001b[0m\n\u001b[1;32m     11\u001b[0m         \u001b[0mn\u001b[0m \u001b[0;34m=\u001b[0m \u001b[0mn\u001b[0m \u001b[0;34m+\u001b[0m \u001b[0;36m7\u001b[0m\u001b[0;34m\u001b[0m\u001b[0;34m\u001b[0m\u001b[0m\n",
      "\u001b[0;32m<ipython-input-150-db3f246791a4>\u001b[0m in \u001b[0;36mbirth\u001b[0;34m(fish, days, n)\u001b[0m\n\u001b[1;32m      7\u001b[0m         \u001b[0mfish\u001b[0m\u001b[0;34m[\u001b[0m\u001b[0mn\u001b[0m\u001b[0;34m]\u001b[0m \u001b[0;34m=\u001b[0m \u001b[0mfish\u001b[0m\u001b[0;34m[\u001b[0m\u001b[0mn\u001b[0m\u001b[0;34m]\u001b[0m \u001b[0;34m+\u001b[0m \u001b[0;36m1\u001b[0m\u001b[0;34m\u001b[0m\u001b[0;34m\u001b[0m\u001b[0m\n\u001b[1;32m      8\u001b[0m         \u001b[0;31m#fish[n+8] = fish[n+8] + 1\u001b[0m\u001b[0;34m\u001b[0m\u001b[0;34m\u001b[0m\u001b[0;34m\u001b[0m\u001b[0m\n\u001b[0;32m----> 9\u001b[0;31m         \u001b[0mfish\u001b[0m \u001b[0;34m=\u001b[0m \u001b[0mbirth\u001b[0m\u001b[0;34m(\u001b[0m \u001b[0mfish\u001b[0m\u001b[0;34m,\u001b[0m \u001b[0mdays\u001b[0m\u001b[0;34m,\u001b[0m \u001b[0mn\u001b[0m \u001b[0;34m+\u001b[0m \u001b[0;36m9\u001b[0m\u001b[0;34m)\u001b[0m\u001b[0;34m\u001b[0m\u001b[0;34m\u001b[0m\u001b[0m\n\u001b[0m\u001b[1;32m     10\u001b[0m         \u001b[0;31m#n = days\u001b[0m\u001b[0;34m\u001b[0m\u001b[0;34m\u001b[0m\u001b[0;34m\u001b[0m\u001b[0m\n\u001b[1;32m     11\u001b[0m         \u001b[0mn\u001b[0m \u001b[0;34m=\u001b[0m \u001b[0mn\u001b[0m \u001b[0;34m+\u001b[0m \u001b[0;36m7\u001b[0m\u001b[0;34m\u001b[0m\u001b[0;34m\u001b[0m\u001b[0m\n",
      "\u001b[0;32m<ipython-input-150-db3f246791a4>\u001b[0m in \u001b[0;36mbirth\u001b[0;34m(fish, days, n)\u001b[0m\n\u001b[1;32m      5\u001b[0m \u001b[0;34m\u001b[0m\u001b[0m\n\u001b[1;32m      6\u001b[0m     \u001b[0;32mwhile\u001b[0m \u001b[0mn\u001b[0m \u001b[0;34m<\u001b[0m \u001b[0mdays\u001b[0m\u001b[0;34m:\u001b[0m\u001b[0;34m\u001b[0m\u001b[0;34m\u001b[0m\u001b[0m\n\u001b[0;32m----> 7\u001b[0;31m         \u001b[0mfish\u001b[0m\u001b[0;34m[\u001b[0m\u001b[0mn\u001b[0m\u001b[0;34m]\u001b[0m \u001b[0;34m=\u001b[0m \u001b[0mfish\u001b[0m\u001b[0;34m[\u001b[0m\u001b[0mn\u001b[0m\u001b[0;34m]\u001b[0m \u001b[0;34m+\u001b[0m \u001b[0;36m1\u001b[0m\u001b[0;34m\u001b[0m\u001b[0;34m\u001b[0m\u001b[0m\n\u001b[0m\u001b[1;32m      8\u001b[0m         \u001b[0;31m#fish[n+8] = fish[n+8] + 1\u001b[0m\u001b[0;34m\u001b[0m\u001b[0;34m\u001b[0m\u001b[0;34m\u001b[0m\u001b[0m\n\u001b[1;32m      9\u001b[0m         \u001b[0mfish\u001b[0m \u001b[0;34m=\u001b[0m \u001b[0mbirth\u001b[0m\u001b[0;34m(\u001b[0m \u001b[0mfish\u001b[0m\u001b[0;34m,\u001b[0m \u001b[0mdays\u001b[0m\u001b[0;34m,\u001b[0m \u001b[0mn\u001b[0m \u001b[0;34m+\u001b[0m \u001b[0;36m9\u001b[0m\u001b[0;34m)\u001b[0m\u001b[0;34m\u001b[0m\u001b[0;34m\u001b[0m\u001b[0m\n",
      "\u001b[0;31mKeyboardInterrupt\u001b[0m: "
     ]
    }
   ],
   "source": [
    "from functools import lru_cache\n",
    "#@lru_cache(maxsize = 128, typed = True)\n",
    "\n",
    "def birth( fish, days, n):\n",
    "    \n",
    "    while n < days:\n",
    "        fish[n] = fish[n] + 1\n",
    "        #fish[n+8] = fish[n+8] + 1\n",
    "        fish = birth( fish, days, n + 9)\n",
    "        #n = days\n",
    "        n = n + 7        \n",
    "    return fish \n",
    "        \n",
    "chain = np.loadtxt('test.txt', delimiter = ',')\n",
    "days = 256\n",
    "c = int(len(chain))\n",
    "fish = np.zeros(  days + 9)\n",
    "for i in range(int(len(chain))):\n",
    "    n = int(chain[i] )\n",
    "    #print( n)\n",
    "    fish = birth( fish, days, n)\n",
    "\n",
    "print( np.sum(fish[:days]) + c )\n"
   ]
  },
  {
   "cell_type": "code",
   "execution_count": 169,
   "metadata": {},
   "outputs": [
    {
     "name": "stdout",
     "output_type": "stream",
     "text": [
      "1617359101538\n"
     ]
    }
   ],
   "source": [
    "from functools import lru_cache\n",
    "@lru_cache(maxsize = 128, typed = True)\n",
    "def birth(i, days):\n",
    "\n",
    "    idx = 0\n",
    "    while i < days:\n",
    "        idx = idx + 1\n",
    "        idx = idx + birth(i+9, days)\n",
    "        i = i + 7\n",
    "    return idx       \n",
    "chain = np.loadtxt('test.txt', delimiter = ',')\n",
    "days = 256\n",
    "\n",
    "\n",
    "c = int(len(chain))\n",
    "fish = 0\n",
    "for i in range(int(len(chain))):\n",
    "    n = int(chain[i] )\n",
    "    #print( n)\n",
    "    fish = fish + birth(n, days)\n",
    "print( fish + c  )"
   ]
  },
  {
   "cell_type": "code",
   "execution_count": 15,
   "metadata": {},
   "outputs": [
    {
     "name": "stdout",
     "output_type": "stream",
     "text": [
      "[0. 1. 0. 0. 0. 0. 0. 1. 0. 1. 0. 0. 0. 0. 0. 1.]\n"
     ]
    }
   ],
   "source": [
    "days = \n",
    "fish = np.zeros(  days + 8)\n",
    "fish = birth( fish, days, 1)\n",
    "print( fish)"
   ]
  },
  {
   "cell_type": "code",
   "execution_count": null,
   "metadata": {},
   "outputs": [],
   "source": []
  },
  {
   "cell_type": "code",
   "execution_count": null,
   "metadata": {},
   "outputs": [],
   "source": []
  },
  {
   "cell_type": "code",
   "execution_count": null,
   "metadata": {},
   "outputs": [],
   "source": []
  },
  {
   "cell_type": "markdown",
   "metadata": {},
   "source": [
    "### Day 7"
   ]
  },
  {
   "cell_type": "code",
   "execution_count": 64,
   "metadata": {},
   "outputs": [
    {
     "name": "stdout",
     "output_type": "stream",
     "text": [
      "1000 1952\n",
      "[   1    2    3 ... 1949 1950 1951]\n",
      "91257582.0\n"
     ]
    }
   ],
   "source": [
    "chain = np.loadtxt('7.txt', delimiter = ',', dtype = 'int')\n",
    "s = np.max( chain)\n",
    "n = int(len(chain))\n",
    "print( n, s)\n",
    "cost = np.zeros(s-1)\n",
    "t = np.arange( 1, s, 1)\n",
    "p = np.zeros(s)\n",
    "#print( t )\n",
    "for i in range( 1, s ): \n",
    "    l = 0\n",
    "    for j in range(n):\n",
    "        idx = np.abs(chain[j] - i )\n",
    "        # I can define an array that at each index has the \n",
    "        #sum up to that index\n",
    "        l = l + np.sum(t[:idx])\n",
    "    cost[i-1] = l \n",
    "    #cost[i-1] = np.sum( np.abs(chain - i))\n",
    "print( np.min(cost) )"
   ]
  },
  {
   "cell_type": "markdown",
   "metadata": {},
   "source": [
    "### Day 8\n"
   ]
  },
  {
   "cell_type": "code",
   "execution_count": 38,
   "metadata": {},
   "outputs": [
    {
     "name": "stdout",
     "output_type": "stream",
     "text": [
      "700\n",
      "401\n",
      "300\n",
      "202\n",
      "196\n"
     ]
    }
   ],
   "source": [
    "#I put my reference values\n",
    "uno = sum( [ord(char) for char in 'dgebacf'])\n",
    "print( uno )\n",
    "due = sum( [ord(char) for char in 'gcbe'])\n",
    "print( due )\n",
    "tre = sum( [ord(char) for char in 'cgb'])\n",
    "print( tre )\n",
    "quattro = sum( [ord(char) for char in 'gc'])\n",
    "print( quattro ) \n",
    "cinque = sum( [ord(char) for char in 'ca'])\n",
    "print( cinque ) "
   ]
  },
  {
   "cell_type": "code",
   "execution_count": 43,
   "metadata": {},
   "outputs": [
    {
     "name": "stdout",
     "output_type": "stream",
     "text": [
      "288\n"
     ]
    }
   ],
   "source": [
    "data = pd.read_csv('8.txt', sep =' ', header = None)\n",
    "data = data.to_numpy()\n",
    "n = int(len(data[:,0]))\n",
    "m = int(len(data[0,:]))\n",
    "change = 11\n",
    "count = 0\n",
    "for i in range(n):\n",
    "    for k in range(change, m):\n",
    "        l = [ ord(char) for char in data[i,k]]\n",
    "        l = len(l)\n",
    "        if l == 2:\n",
    "            count = count +1 \n",
    "        if l == 3:\n",
    "            count = count +1 \n",
    "        if l == 4:\n",
    "            count = count +1 \n",
    "        if l == 7:\n",
    "            count = count +1 \n",
    "print( count )"
   ]
  },
  {
   "cell_type": "code",
   "execution_count": 31,
   "metadata": {},
   "outputs": [
    {
     "name": "stdout",
     "output_type": "stream",
     "text": [
      "940724\n"
     ]
    }
   ],
   "source": [
    "def create_numbers( l ):\n",
    "    numbers = np.zeros(10)\n",
    "    #Find 1\n",
    "    for k in l:\n",
    "        if len(k) == 2:\n",
    "            c = [k]\n",
    "            l.remove(k)\n",
    "            numbers[1] = sum([ord(s) for s in k ])\n",
    "    #find 7 \n",
    "    for k in l:\n",
    "        if len(k) == 3:\n",
    "            c.append(k)\n",
    "            l.remove(k)\n",
    "            numbers[7] = sum([ord(s) for s in k ])\n",
    "    #find 4\n",
    "    for k in l:\n",
    "        if len(k) == 4:\n",
    "            c.append(k)\n",
    "            l.remove(k)\n",
    "            numbers[4] = sum([ord(s) for s in k ])\n",
    "    #find 3 it has all the strings of the seven \n",
    "    for k in l:\n",
    "        if(len(k)) == 5:\n",
    "            b = 0\n",
    "            for char in k:\n",
    "                if char in c[1]:\n",
    "                    b = b +1\n",
    "            if b == 3:\n",
    "                c.append(k)\n",
    "                l.remove(k)\n",
    "                numbers[3] = sum([ord(s) for s in k ])\n",
    "    # find 8\n",
    "    for k in l:\n",
    "        if len(k) == 7:\n",
    "            c.append(k)\n",
    "            l.remove(k)\n",
    "            numbers[8] = sum([ord(s) for s in k ])\n",
    "    #find 6 \n",
    "    for k in l:\n",
    "        if len(k) == 6:\n",
    "            b = 0 \n",
    "            for char in c[0]:\n",
    "                if char in k:\n",
    "                    b = b +1\n",
    "            if b == 1:\n",
    "                c.append(k)\n",
    "                l.remove(k)\n",
    "                numbers[6] = sum([ord(s) for s in k ])\n",
    "    #find 9 \n",
    "    for k in l:\n",
    "        if len(k) == 6:\n",
    "            b = 0 \n",
    "            for char in c[2]:\n",
    "                if char in k:\n",
    "                    b = b +1\n",
    "            if b == 4:\n",
    "                c.append(k)\n",
    "                l.remove(k)\n",
    "                numbers[9] = sum([ord(s) for s in k ])\n",
    "    #find 0\n",
    "    for k in l:\n",
    "        if len(k) == 6:\n",
    "            c.append(k)\n",
    "            l.remove(k)\n",
    "            numbers[0] = sum([ord(s) for s in k ])\n",
    "    #find 5\n",
    "    for k in l:\n",
    "        if len(k) == 5:\n",
    "            b = 0 \n",
    "            for char in c[5]:\n",
    "                if char in k:\n",
    "                    b = b +1\n",
    "            if b == 5:\n",
    "                c.append(k)\n",
    "                l.remove(k)\n",
    "                numbers[5] = sum([ord(s) for s in k ])\n",
    "    #find2 \n",
    "    for k in l:\n",
    "        c.append(k)\n",
    "        numbers[2] = sum([ord(s) for s in k ])\n",
    "    myorder = [7, 0, 9, 3, 2, 8, 5, 1, 4, 6 ]\n",
    "    mylist = [c[i] for i in myorder]\n",
    "    return( mylist )\n",
    "\n",
    "data = pd.read_csv('8.txt', sep =' ', header = None)\n",
    "data = data.to_numpy()\n",
    "n = int(len(data[:,0]))\n",
    "#print( n )\n",
    "count = 0\n",
    "for i in range(n):\n",
    "    \n",
    "    l = [ s for s in data[i,:10]]\n",
    "    numbers = create_numbers(l)\n",
    "    l = [s for s in data[i,11:]]\n",
    "    num = []\n",
    "    for k in range(4):\n",
    "        \n",
    "        s = l[k]\n",
    "        for j in range(10):\n",
    "            if ''.join(sorted(numbers[j])) == ''.join(sorted(s)):\n",
    "                num.append(str(j) )\n",
    "                \n",
    "    #print( int(''.join(num)) )\n",
    "    count = count + int(''.join(num) )\n",
    "\n",
    "print( count  )"
   ]
  },
  {
   "cell_type": "code",
   "execution_count": 25,
   "metadata": {},
   "outputs": [
    {
     "name": "stdout",
     "output_type": "stream",
     "text": [
      "abs\n",
      "bcs\n"
     ]
    }
   ],
   "source": [
    "a = 'abs'\n",
    "b = 'bsc'\n",
    "print( ''.join(sorted(a)) )\n",
    "print( ''.join(sorted(b)) )\n",
    "if ''.join(sorted(a)) == ''.join(sorted(b)):\n",
    "    print( 'qui')"
   ]
  },
  {
   "cell_type": "code",
   "execution_count": null,
   "metadata": {},
   "outputs": [],
   "source": [
    "    l = [ s for s in data[i,:10]]\n",
    "    numbers = create_numbers(l)\n",
    "    l = [s for s in data[i,11:]]\n",
    "    num = []\n",
    "    print( l )\n",
    "    for k in range(4):\n",
    "        \n",
    "        s = sum([ord(c) for c in l[k] ] )\n",
    "        for j in range(10):\n",
    "            if s == numbers[j]:\n",
    "                #print( s )\n",
    "                num.append(str(j) )\n",
    "                \n",
    "    print( int(''.join(num)) )\n",
    "    count = count + int(''.join(num) )\n",
    "\n",
    "print( count  )"
   ]
  },
  {
   "cell_type": "markdown",
   "metadata": {},
   "source": [
    "### Day 9"
   ]
  },
  {
   "cell_type": "code",
   "execution_count": 5,
   "metadata": {},
   "outputs": [
    {
     "ename": "NameError",
     "evalue": "name 'np' is not defined",
     "output_type": "error",
     "traceback": [
      "\u001b[0;31m---------------------------------------------------------------------------\u001b[0m",
      "\u001b[0;31mNameError\u001b[0m                                 Traceback (most recent call last)",
      "\u001b[0;32m<ipython-input-5-3cd2a9d8203a>\u001b[0m in \u001b[0;36m<module>\u001b[0;34m\u001b[0m\n\u001b[0;32m----> 1\u001b[0;31m \u001b[0mdata\u001b[0m  \u001b[0;34m=\u001b[0m \u001b[0mnp\u001b[0m\u001b[0;34m.\u001b[0m\u001b[0mloadtxt\u001b[0m\u001b[0;34m(\u001b[0m\u001b[0;34m'test.txt'\u001b[0m\u001b[0;34m,\u001b[0m \u001b[0mdtype\u001b[0m \u001b[0;34m=\u001b[0m \u001b[0;34m'str'\u001b[0m\u001b[0;34m)\u001b[0m\u001b[0;34m\u001b[0m\u001b[0;34m\u001b[0m\u001b[0m\n\u001b[0m\u001b[1;32m      2\u001b[0m \u001b[0mn\u001b[0m \u001b[0;34m=\u001b[0m \u001b[0mint\u001b[0m\u001b[0;34m(\u001b[0m\u001b[0mlen\u001b[0m\u001b[0;34m(\u001b[0m \u001b[0mdata\u001b[0m\u001b[0;34m[\u001b[0m\u001b[0;34m:\u001b[0m\u001b[0;34m]\u001b[0m\u001b[0;34m)\u001b[0m\u001b[0;34m)\u001b[0m\u001b[0;34m\u001b[0m\u001b[0;34m\u001b[0m\u001b[0m\n\u001b[1;32m      3\u001b[0m \u001b[0mprint\u001b[0m\u001b[0;34m(\u001b[0m \u001b[0mn\u001b[0m\u001b[0;34m)\u001b[0m\u001b[0;34m\u001b[0m\u001b[0;34m\u001b[0m\u001b[0m\n\u001b[1;32m      4\u001b[0m \u001b[0mt\u001b[0m \u001b[0;34m=\u001b[0m \u001b[0;34m[\u001b[0m \u001b[0mint\u001b[0m\u001b[0;34m(\u001b[0m\u001b[0mchar\u001b[0m\u001b[0;34m)\u001b[0m \u001b[0;32mfor\u001b[0m \u001b[0mchar\u001b[0m \u001b[0;32min\u001b[0m \u001b[0mdata\u001b[0m\u001b[0;34m[\u001b[0m\u001b[0;36m0\u001b[0m\u001b[0;34m]\u001b[0m\u001b[0;34m]\u001b[0m\u001b[0;34m\u001b[0m\u001b[0;34m\u001b[0m\u001b[0m\n\u001b[1;32m      5\u001b[0m \u001b[0ml\u001b[0m \u001b[0;34m=\u001b[0m \u001b[0mint\u001b[0m\u001b[0;34m(\u001b[0m\u001b[0mlen\u001b[0m\u001b[0;34m(\u001b[0m\u001b[0mt\u001b[0m\u001b[0;34m)\u001b[0m\u001b[0;34m)\u001b[0m\u001b[0;34m\u001b[0m\u001b[0;34m\u001b[0m\u001b[0m\n",
      "\u001b[0;31mNameError\u001b[0m: name 'np' is not defined"
     ]
    }
   ],
   "source": [
    "data  = np.loadtxt('test.txt', dtype = 'str')\n",
    "n = int(len( data[:]))\n",
    "print( n)\n",
    "t = [ int(char) for char in data[0]]\n",
    "l = int(len(t))\n",
    "mask = np.zeros((n,l))\n",
    "count = 0\n",
    "# Add an higher value at the boundary to avoid boundary problems\n",
    "# It is smarter than check the last line\n",
    "# modfiyt it before going next\n",
    "for i in range(1, n-1):\n",
    "    t = [ int(char) for char in data[i-1]]\n",
    "    m = [ int(char) for char in data[i]]\n",
    "    b = [ int(char) for char in data[i+1]]\n",
    "    l = int(len(m))\n",
    "    for j in range(l):\n",
    "        if j == 0:\n",
    "            if m[j] < m[j+1] and m[j] < t[j] and m[j] < b[j]:\n",
    "                count = count + 1 +m[j]\n",
    "                mask[i,j] = 1\n",
    "        elif j == l-1 :\n",
    "            if m[j] < m[j-1] and m[j] < t[j] and m[j] < b[j]:\n",
    "                count = count + 1  +m[j]\n",
    "                mask[i,j] = 1\n",
    "        else:\n",
    "            if m[j] < m[j-1] and m[j] < m[j+1] and m[j] < t[j] and m[j] < b[j]:\n",
    "                mask[i,j] = 1\n",
    "                count = count + 1 + m[j]  \n",
    "\n",
    "#i = 1\n",
    "i = 0\n",
    "m = [ int(char) for char in data[i]]\n",
    "b = [ int(char) for char in data[i+1]]\n",
    "for j in range(l):\n",
    "    if j == 0:\n",
    "        if m[j] < m[j+1]  and m[j] < b[j]:\n",
    "            mask[i,j] = 1\n",
    "            count = count + 1+m[j]\n",
    "    elif j == l-1 :\n",
    "        if m[j] < m[j-1] and m[j] < b[j]:\n",
    "            count = count + 1  +m[j]\n",
    "            mask[i,j] = 1\n",
    "    else:\n",
    "        if m[j] < m[j-1] and m[j] < m[j+1]  and m[j] < b[j]:\n",
    "            mask[i,j] = 1\n",
    "            count = count + 1 + m[j]     \n",
    "\n",
    "i = n-1\n",
    "m = [ int(char) for char in data[i]]\n",
    "t = [ int(char) for char in data[i-1]]\n",
    "for j in range(l):\n",
    "    if j == 0:\n",
    "        if m[j] < m[j+1]  and m[j] < t[j]:\n",
    "            count = count + 1+m[j]\n",
    "            mask[i,j] = 1\n",
    "    elif j == l-1 :\n",
    "        if m[j] < m[j-1] and m[j] < t[j]:\n",
    "            count = count + 1  +m[j]\n",
    "            mask[i,j] = 1\n",
    "    else:\n",
    "        if m[j] < m[j-1] and m[j] < m[j+1]  and m[j] < t[j]:\n",
    "            mask[i,j] = 1\n",
    "            count = count + 1 + m[j]   \n",
    "\n",
    "print( mask )\n"
   ]
  },
  {
   "cell_type": "code",
   "execution_count": 1,
   "metadata": {},
   "outputs": [
    {
     "name": "stdout",
     "output_type": "stream",
     "text": [
      "[10  1  2  3]\n"
     ]
    }
   ],
   "source": []
  },
  {
   "cell_type": "code",
   "execution_count": null,
   "metadata": {},
   "outputs": [],
   "source": []
  },
  {
   "cell_type": "code",
   "execution_count": null,
   "metadata": {},
   "outputs": [],
   "source": []
  }
 ],
 "metadata": {
  "kernelspec": {
   "display_name": "Python 3",
   "language": "python",
   "name": "python3"
  },
  "language_info": {
   "codemirror_mode": {
    "name": "ipython",
    "version": 3
   },
   "file_extension": ".py",
   "mimetype": "text/x-python",
   "name": "python",
   "nbconvert_exporter": "python",
   "pygments_lexer": "ipython3",
   "version": "3.7.3"
  }
 },
 "nbformat": 4,
 "nbformat_minor": 4
}
