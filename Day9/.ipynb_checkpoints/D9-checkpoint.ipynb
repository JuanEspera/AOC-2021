{
 "cells": [
  {
   "cell_type": "code",
   "execution_count": 2,
   "metadata": {},
   "outputs": [],
   "source": [
    "import numpy as np\n",
    "import pandas as pd"
   ]
  },
  {
   "cell_type": "code",
   "execution_count": null,
   "metadata": {},
   "outputs": [],
   "source": []
  },
  {
   "cell_type": "code",
   "execution_count": 6,
   "metadata": {},
   "outputs": [
    {
     "name": "stdout",
     "output_type": "stream",
     "text": [
      "[[10. 10. 10. 10. 10. 10. 10. 10. 10. 10. 10. 10.]\n",
      " [10.  2.  1.  9.  9.  9.  4.  3.  2.  1.  0. 10.]\n",
      " [10.  3.  9.  8.  7.  8.  9.  4.  9.  2.  1. 10.]\n",
      " [10.  9.  8.  5.  6.  7.  8.  9.  8.  9.  2. 10.]\n",
      " [10.  8.  7.  6.  7.  8.  9.  6.  7.  8.  9. 10.]\n",
      " [10.  9.  8.  9.  9.  9.  6.  5.  6.  7.  8. 10.]\n",
      " [10. 10. 10. 10. 10. 10. 10. 10. 10. 10. 10. 10.]]\n",
      "15.0\n"
     ]
    }
   ],
   "source": [
    "f = open(\"test.txt\", \"r\")\n",
    "Lines = f.read().splitlines()\n",
    "nrow = len(Lines)\n",
    "ncol = len(Lines[0])\n",
    "numbers = np.zeros( ( nrow, ncol), dtype = int )\n",
    "\n",
    "for i in range(nrow):\n",
    "    line = Lines[i]\n",
    "    j = 0;\n",
    "    for s in line:\n",
    "        numbers[i,j] = int(s)\n",
    "        j = j+1\n",
    "data = np.ones((nrow+2, ncol+2))*10\n",
    "data[1:nrow+1,1:ncol+1] = numbers\n",
    "data = data\n",
    "print( data )\n",
    "count = 0\n",
    "for i in range(1,nrow+1):\n",
    "    for j in range(1,ncol+1):\n",
    "        if data[i,j] < data[i+1,j] and data[i,j] < data[i-1,j] and  data[i,j] < data[i,j-1] and  data[i,j] < data[i,j+1]:\n",
    "            count = count + data[i,j] +1 \n",
    "            \n",
    "            \n",
    "print( count )"
   ]
  },
  {
   "cell_type": "code",
   "execution_count": 7,
   "metadata": {},
   "outputs": [
    {
     "data": {
      "text/plain": [
       "array([[10., 10., 10., 10., 10., 10., 10., 10., 10., 10., 10., 10.],\n",
       "       [10.,  2.,  1.,  9.,  9.,  9.,  4.,  3.,  2.,  1.,  0., 10.],\n",
       "       [10.,  3.,  9.,  8.,  7.,  8.,  9.,  4.,  9.,  2.,  1., 10.],\n",
       "       [10.,  9.,  8.,  5.,  6.,  7.,  8.,  9.,  8.,  9.,  2., 10.],\n",
       "       [10.,  8.,  7.,  6.,  7.,  8.,  9.,  6.,  7.,  8.,  9., 10.],\n",
       "       [10.,  9.,  8.,  9.,  9.,  9.,  6.,  5.,  6.,  7.,  8., 10.],\n",
       "       [10., 10., 10., 10., 10., 10., 10., 10., 10., 10., 10., 10.]])"
      ]
     },
     "execution_count": 7,
     "metadata": {},
     "output_type": "execute_result"
    }
   ],
   "source": [
    "def find_basin(array, l, m ):\n",
    "    "
   ]
  },
  {
   "cell_type": "code",
   "execution_count": null,
   "metadata": {},
   "outputs": [],
   "source": []
  }
 ],
 "metadata": {
  "kernelspec": {
   "display_name": "Python 3",
   "language": "python",
   "name": "python3"
  },
  "language_info": {
   "codemirror_mode": {
    "name": "ipython",
    "version": 3
   },
   "file_extension": ".py",
   "mimetype": "text/x-python",
   "name": "python",
   "nbconvert_exporter": "python",
   "pygments_lexer": "ipython3",
   "version": "3.8.10"
  }
 },
 "nbformat": 4,
 "nbformat_minor": 4
}
