{
 "cells": [
  {
   "cell_type": "code",
   "execution_count": 2,
   "metadata": {},
   "outputs": [],
   "source": [
    "import numpy as np\n",
    "import pandas as pd"
   ]
  },
  {
   "cell_type": "code",
   "execution_count": null,
   "metadata": {},
   "outputs": [],
   "source": []
  },
  {
   "cell_type": "code",
   "execution_count": 85,
   "metadata": {},
   "outputs": [
    {
     "name": "stdout",
     "output_type": "stream",
     "text": [
      "[[10. 10. 10. ... 10. 10. 10.]\n",
      " [10.  3.  5. ...  6.  7. 10.]\n",
      " [10.  2.  6. ...  5.  6. 10.]\n",
      " ...\n",
      " [10.  9.  8. ...  3.  4. 10.]\n",
      " [10.  8.  7. ...  4.  5. 10.]\n",
      " [10. 10. 10. ... 10. 10. 10.]]\n",
      "566.0\n",
      "[102.  94.  93.  87.  83.  83.  82.  81.  80.  79.  79.  78.  78.  78.\n",
      "  75.  74.  74.  71.  70.  70.  70.  69.  69.  68.  67.  67.  66.  66.\n",
      "  64.  63.  63.  61.  61.  60.  59.  58.  57.  56.  56.  56.  55.  54.\n",
      "  54.  54.  53.  53.  53.  52.  52.  51.  51.  50.  50.  49.  48.  48.\n",
      "  48.  48.  47.  47.  47.  45.  45.  44.  43.  42.  42.  42.  42.  41.\n",
      "  41.  41.  40.  40.  40.  39.  39.  38.  37.  37.  37.  36.  36.  35.\n",
      "  35.  35.  35.  35.  35.  33.  33.  32.  32.  32.  32.  31.  30.  30.\n",
      "  29.  29.  28.  28.  28.  27.  27.  27.  27.  27.  27.  26.  26.  26.\n",
      "  26.  26.  26.  26.  25.  25.  25.  25.  24.  24.  24.  22.  22.  22.\n",
      "  21.  21.  20.  20.  20.  20.  20.  20.  20.  19.  19.  19.  19.  18.\n",
      "  18.  18.  18.  18.  17.  17.  16.  16.  16.  15.  15.  15.  15.  15.\n",
      "  15.  15.  14.  14.  14.  14.  13.  13.  13.  13.  13.  13.  13.  13.\n",
      "  12.  12.  12.  11.  11.  11.  11.  10.  10.  10.  10.  10.   9.   9.\n",
      "   9.   9.   9.   8.   8.   8.   8.   8.   8.   7.   7.   7.   7.   7.\n",
      "   7.   7.   6.   6.   6.   6.   6.   6.   6.   6.   6.   5.   5.   5.\n",
      "   5.   5.   5.   4.   4.   4.   4.   4.   4.   4.   3.   3.   3.   3.\n",
      "   3.   3.   2.   2.   2.   2.   2.   2.   2.   2.   2.   2.   2.   2.\n",
      "   2.   2.   2.   2.]\n",
      "891684.0\n"
     ]
    }
   ],
   "source": [
    "f = open(\"day9.txt\", \"r\")\n",
    "Lines = f.read().splitlines()\n",
    "nrow = len(Lines)\n",
    "ncol = len(Lines[0])\n",
    "numbers = np.zeros( ( nrow, ncol), dtype = int )\n",
    "\n",
    "for i in range(nrow):\n",
    "    line = Lines[i]\n",
    "    j = 0;\n",
    "    for s in line:\n",
    "        numbers[i,j] = int(s)\n",
    "        j = j+1\n",
    "data = np.ones((nrow+2, ncol+2))*10\n",
    "data[1:nrow+1,1:ncol+1] = numbers\n",
    "data = data\n",
    "print( data )\n",
    "count = 0\n",
    "size = []\n",
    "for i in range(1,nrow+1):\n",
    "    for j in range(1,ncol+1):\n",
    "        if data[i,j] < data[i+1,j] and data[i,j] < data[i-1,j] and  data[i,j] < data[i,j-1] and  data[i,j] < data[i,j+1]:\n",
    "            count = count + data[i,j] +1 \n",
    "            mask =  np.zeros((nrow+2, ncol+2))\n",
    "            mask[i,j] = 1\n",
    "            find_basin(data, i, j)\n",
    "            size.append(mask.sum() )\n",
    "\n",
    "print( count )\n",
    "size = np.flip(np.sort(size) )\n",
    "print( size )\n",
    "print( size[0]*size[1]*size[2] )"
   ]
  },
  {
   "cell_type": "code",
   "execution_count": 50,
   "metadata": {},
   "outputs": [],
   "source": []
  },
  {
   "cell_type": "code",
   "execution_count": null,
   "metadata": {},
   "outputs": [],
   "source": []
  },
  {
   "cell_type": "code",
   "execution_count": 83,
   "metadata": {},
   "outputs": [],
   "source": [
    "def find_basin(array, l, m):\n",
    "    global mask\n",
    "    a = [-1, 0, 0, 1]\n",
    "    b = [0, 1, -1, 0]\n",
    "    \n",
    "    for i in range(4):\n",
    "        x = a[i]\n",
    "        y = b[i]\n",
    "        \n",
    "        #if array[l+x, m+y] == array[l,m] +1 and array[l+x,m+y] < 9:# and mask[l+x, m+y] == 0:\n",
    "        if array[l+x,m+y] < 9 and mask[l+x,m+y] == 0:#\n",
    "            mask[l+x, m+y] = 1 \n",
    "            find_basin(array, l+x, m+y)\n",
    "        \n"
   ]
  },
  {
   "cell_type": "code",
   "execution_count": null,
   "metadata": {},
   "outputs": [],
   "source": []
  }
 ],
 "metadata": {
  "kernelspec": {
   "display_name": "Python 3",
   "language": "python",
   "name": "python3"
  },
  "language_info": {
   "codemirror_mode": {
    "name": "ipython",
    "version": 3
   },
   "file_extension": ".py",
   "mimetype": "text/x-python",
   "name": "python",
   "nbconvert_exporter": "python",
   "pygments_lexer": "ipython3",
   "version": "3.8.10"
  }
 },
 "nbformat": 4,
 "nbformat_minor": 4
}
