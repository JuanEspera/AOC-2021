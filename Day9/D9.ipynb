{
 "cells": [
  {
   "cell_type": "code",
   "execution_count": 1,
   "metadata": {},
   "outputs": [],
   "source": [
    "import numpy as np\n",
    "import pandas as pd"
   ]
  },
  {
   "cell_type": "code",
   "execution_count": null,
   "metadata": {},
   "outputs": [],
   "source": []
  },
  {
   "cell_type": "code",
   "execution_count": 66,
   "metadata": {},
   "outputs": [
    {
     "name": "stdout",
     "output_type": "stream",
     "text": [
      "[[11. 11. 11. 11. 11. 11. 11. 11. 11. 11. 11. 11.]\n",
      " [11.  3.  2. 10. 10. 10.  5.  4.  3.  2.  1. 11.]\n",
      " [11.  4. 10.  9.  8.  9. 10.  5. 10.  3.  2. 11.]\n",
      " [11. 10.  9.  6.  7.  8.  9. 10.  9. 10.  3. 11.]\n",
      " [11.  9.  8.  7.  8.  9. 10.  7.  8.  9. 10. 11.]\n",
      " [11. 10.  9. 10. 10. 10.  7.  6.  7.  8.  9. 11.]\n",
      " [11. 11. 11. 11. 11. 11. 11. 11. 11. 11. 11. 11.]]\n",
      "15.0\n"
     ]
    }
   ],
   "source": [
    "f = open(\"test.txt\", \"r\")\n",
    "Lines = f.read().splitlines()\n",
    "nrow = len(Lines)\n",
    "ncol = len(Lines[0])\n",
    "numbers = np.zeros( ( nrow, ncol), dtype = int )\n",
    "\n",
    "for i in range(nrow):\n",
    "    line = Lines[i]\n",
    "    j = 0;\n",
    "    for s in line:\n",
    "        numbers[i,j] = int(s)\n",
    "        j = j+1\n",
    "data = np.ones((nrow+2, ncol+2))*10\n",
    "data[1:nrow+1,1:ncol+1] = numbers\n",
    "data = data + 1\n",
    "print( data )\n",
    "count = 0\n",
    "for i in range(1,nrow+1):\n",
    "    for j in range(1,ncol+1):\n",
    "        if data[i,j] < data[i+1,j] and data[i,j] < data[i-1,j] and  data[i,j] < data[i,j-1] and  data[i,j] < data[i,j+1]:\n",
    "            count = count + data[i,j]\n",
    "print( count )"
   ]
  },
  {
   "cell_type": "code",
   "execution_count": 34,
   "metadata": {},
   "outputs": [],
   "source": [
    "#define recursive function to find basin "
   ]
  },
  {
   "cell_type": "code",
   "execution_count": null,
   "metadata": {},
   "outputs": [],
   "source": []
  }
 ],
 "metadata": {
  "kernelspec": {
   "display_name": "Python 3",
   "language": "python",
   "name": "python3"
  },
  "language_info": {
   "codemirror_mode": {
    "name": "ipython",
    "version": 3
   },
   "file_extension": ".py",
   "mimetype": "text/x-python",
   "name": "python",
   "nbconvert_exporter": "python",
   "pygments_lexer": "ipython3",
   "version": "3.7.3"
  }
 },
 "nbformat": 4,
 "nbformat_minor": 4
}
